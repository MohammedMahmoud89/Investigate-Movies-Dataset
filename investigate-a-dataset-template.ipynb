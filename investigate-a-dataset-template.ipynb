{
 "cells": [
  {
   "cell_type": "markdown",
   "metadata": {},
   "source": [
    "\n",
    "# Project: Investigate a Dataset (tmdb-movies)\n",
    "\n",
    "## Table of Contents\n",
    "<ul>\n",
    "<li><a href=\"#intro\">Introduction</a></li>\n",
    "<li><a href=\"#wrangling\">Data Wrangling</a></li>\n",
    "<li><a href=\"#eda\">Exploratory Data Analysis</a></li>\n",
    "<li><a href=\"#conclusions\">Conclusions</a></li>\n",
    "</ul>"
   ]
  },
  {
   "cell_type": "markdown",
   "metadata": {},
   "source": [
    "<a id='intro'></a>\n",
    "# Introduction\n",
    "\n",
    "We are aiming at answering the follwoing questions:\n",
    "\n",
    "1. What are the most popular genres from year to year? \n",
    "\n",
    "2. What are the top 20 longest and shortest Movies?\n",
    "\n",
    "3. What are the factors that are related to and affecting the top 100 highest revenue movies?\n",
    "\n",
    "4. Some correlations and findings from the whole dataset collectively."
   ]
  },
  {
   "cell_type": "markdown",
   "metadata": {},
   "source": [
    "### Import needed libraries"
   ]
  },
  {
   "cell_type": "code",
   "execution_count": 1,
   "metadata": {},
   "outputs": [],
   "source": [
    "# Use this cell to set up import statements for all of the packages that you\n",
    "#   plan to use.\n",
    "import pandas as pd\n",
    "import numpy as np\n",
    "import matplotlib.pyplot as plt\n",
    "import seaborn as sns\n",
    "%matplotlib inline \n",
    "\n",
    "# Remember to include a 'magic word' so that your visualizations are plotted\n",
    "#   inline with the notebook. See this page for more:\n",
    "#   http://ipython.readthedocs.io/en/stable/interactive/magics.html\n"
   ]
  },
  {
   "cell_type": "markdown",
   "metadata": {},
   "source": [
    "<a id='wrangling'></a>\n",
    "# Data Wrangling\n"
   ]
  },
  {
   "cell_type": "markdown",
   "metadata": {},
   "source": [
    "### Loading the data"
   ]
  },
  {
   "cell_type": "code",
   "execution_count": 55,
   "metadata": {},
   "outputs": [
    {
     "data": {
      "text/html": [
       "<div>\n",
       "<style scoped>\n",
       "    .dataframe tbody tr th:only-of-type {\n",
       "        vertical-align: middle;\n",
       "    }\n",
       "\n",
       "    .dataframe tbody tr th {\n",
       "        vertical-align: top;\n",
       "    }\n",
       "\n",
       "    .dataframe thead th {\n",
       "        text-align: right;\n",
       "    }\n",
       "</style>\n",
       "<table border=\"1\" class=\"dataframe\">\n",
       "  <thead>\n",
       "    <tr style=\"text-align: right;\">\n",
       "      <th></th>\n",
       "      <th>id</th>\n",
       "      <th>imdb_id</th>\n",
       "      <th>popularity</th>\n",
       "      <th>budget</th>\n",
       "      <th>revenue</th>\n",
       "      <th>original_title</th>\n",
       "      <th>cast</th>\n",
       "      <th>homepage</th>\n",
       "      <th>director</th>\n",
       "      <th>tagline</th>\n",
       "      <th>...</th>\n",
       "      <th>overview</th>\n",
       "      <th>runtime</th>\n",
       "      <th>genres</th>\n",
       "      <th>production_companies</th>\n",
       "      <th>release_date</th>\n",
       "      <th>vote_count</th>\n",
       "      <th>vote_average</th>\n",
       "      <th>release_year</th>\n",
       "      <th>budget_adj</th>\n",
       "      <th>revenue_adj</th>\n",
       "    </tr>\n",
       "  </thead>\n",
       "  <tbody>\n",
       "    <tr>\n",
       "      <th>0</th>\n",
       "      <td>135397</td>\n",
       "      <td>tt0369610</td>\n",
       "      <td>32.985763</td>\n",
       "      <td>150000000</td>\n",
       "      <td>1513528810</td>\n",
       "      <td>Jurassic World</td>\n",
       "      <td>Chris Pratt|Bryce Dallas Howard|Irrfan Khan|Vi...</td>\n",
       "      <td>http://www.jurassicworld.com/</td>\n",
       "      <td>Colin Trevorrow</td>\n",
       "      <td>The park is open.</td>\n",
       "      <td>...</td>\n",
       "      <td>Twenty-two years after the events of Jurassic ...</td>\n",
       "      <td>124</td>\n",
       "      <td>Action|Adventure|Science Fiction|Thriller</td>\n",
       "      <td>Universal Studios|Amblin Entertainment|Legenda...</td>\n",
       "      <td>6/9/15</td>\n",
       "      <td>5562</td>\n",
       "      <td>6.5</td>\n",
       "      <td>2015</td>\n",
       "      <td>1.379999e+08</td>\n",
       "      <td>1.392446e+09</td>\n",
       "    </tr>\n",
       "    <tr>\n",
       "      <th>1</th>\n",
       "      <td>76341</td>\n",
       "      <td>tt1392190</td>\n",
       "      <td>28.419936</td>\n",
       "      <td>150000000</td>\n",
       "      <td>378436354</td>\n",
       "      <td>Mad Max: Fury Road</td>\n",
       "      <td>Tom Hardy|Charlize Theron|Hugh Keays-Byrne|Nic...</td>\n",
       "      <td>http://www.madmaxmovie.com/</td>\n",
       "      <td>George Miller</td>\n",
       "      <td>What a Lovely Day.</td>\n",
       "      <td>...</td>\n",
       "      <td>An apocalyptic story set in the furthest reach...</td>\n",
       "      <td>120</td>\n",
       "      <td>Action|Adventure|Science Fiction|Thriller</td>\n",
       "      <td>Village Roadshow Pictures|Kennedy Miller Produ...</td>\n",
       "      <td>5/13/15</td>\n",
       "      <td>6185</td>\n",
       "      <td>7.1</td>\n",
       "      <td>2015</td>\n",
       "      <td>1.379999e+08</td>\n",
       "      <td>3.481613e+08</td>\n",
       "    </tr>\n",
       "    <tr>\n",
       "      <th>2</th>\n",
       "      <td>262500</td>\n",
       "      <td>tt2908446</td>\n",
       "      <td>13.112507</td>\n",
       "      <td>110000000</td>\n",
       "      <td>295238201</td>\n",
       "      <td>Insurgent</td>\n",
       "      <td>Shailene Woodley|Theo James|Kate Winslet|Ansel...</td>\n",
       "      <td>http://www.thedivergentseries.movie/#insurgent</td>\n",
       "      <td>Robert Schwentke</td>\n",
       "      <td>One Choice Can Destroy You</td>\n",
       "      <td>...</td>\n",
       "      <td>Beatrice Prior must confront her inner demons ...</td>\n",
       "      <td>119</td>\n",
       "      <td>Adventure|Science Fiction|Thriller</td>\n",
       "      <td>Summit Entertainment|Mandeville Films|Red Wago...</td>\n",
       "      <td>3/18/15</td>\n",
       "      <td>2480</td>\n",
       "      <td>6.3</td>\n",
       "      <td>2015</td>\n",
       "      <td>1.012000e+08</td>\n",
       "      <td>2.716190e+08</td>\n",
       "    </tr>\n",
       "    <tr>\n",
       "      <th>3</th>\n",
       "      <td>140607</td>\n",
       "      <td>tt2488496</td>\n",
       "      <td>11.173104</td>\n",
       "      <td>200000000</td>\n",
       "      <td>2068178225</td>\n",
       "      <td>Star Wars: The Force Awakens</td>\n",
       "      <td>Harrison Ford|Mark Hamill|Carrie Fisher|Adam D...</td>\n",
       "      <td>http://www.starwars.com/films/star-wars-episod...</td>\n",
       "      <td>J.J. Abrams</td>\n",
       "      <td>Every generation has a story.</td>\n",
       "      <td>...</td>\n",
       "      <td>Thirty years after defeating the Galactic Empi...</td>\n",
       "      <td>136</td>\n",
       "      <td>Action|Adventure|Science Fiction|Fantasy</td>\n",
       "      <td>Lucasfilm|Truenorth Productions|Bad Robot</td>\n",
       "      <td>12/15/15</td>\n",
       "      <td>5292</td>\n",
       "      <td>7.5</td>\n",
       "      <td>2015</td>\n",
       "      <td>1.839999e+08</td>\n",
       "      <td>1.902723e+09</td>\n",
       "    </tr>\n",
       "    <tr>\n",
       "      <th>4</th>\n",
       "      <td>168259</td>\n",
       "      <td>tt2820852</td>\n",
       "      <td>9.335014</td>\n",
       "      <td>190000000</td>\n",
       "      <td>1506249360</td>\n",
       "      <td>Furious 7</td>\n",
       "      <td>Vin Diesel|Paul Walker|Jason Statham|Michelle ...</td>\n",
       "      <td>http://www.furious7.com/</td>\n",
       "      <td>James Wan</td>\n",
       "      <td>Vengeance Hits Home</td>\n",
       "      <td>...</td>\n",
       "      <td>Deckard Shaw seeks revenge against Dominic Tor...</td>\n",
       "      <td>137</td>\n",
       "      <td>Action|Crime|Thriller</td>\n",
       "      <td>Universal Pictures|Original Film|Media Rights ...</td>\n",
       "      <td>4/1/15</td>\n",
       "      <td>2947</td>\n",
       "      <td>7.3</td>\n",
       "      <td>2015</td>\n",
       "      <td>1.747999e+08</td>\n",
       "      <td>1.385749e+09</td>\n",
       "    </tr>\n",
       "    <tr>\n",
       "      <th>5</th>\n",
       "      <td>281957</td>\n",
       "      <td>tt1663202</td>\n",
       "      <td>9.110700</td>\n",
       "      <td>135000000</td>\n",
       "      <td>532950503</td>\n",
       "      <td>The Revenant</td>\n",
       "      <td>Leonardo DiCaprio|Tom Hardy|Will Poulter|Domhn...</td>\n",
       "      <td>http://www.foxmovies.com/movies/the-revenant</td>\n",
       "      <td>Alejandro GonzÃ¡lez IÃ±Ã¡rritu</td>\n",
       "      <td>(n. One who has returned, as if from the dead.)</td>\n",
       "      <td>...</td>\n",
       "      <td>In the 1820s, a frontiersman, Hugh Glass, sets...</td>\n",
       "      <td>156</td>\n",
       "      <td>Western|Drama|Adventure|Thriller</td>\n",
       "      <td>Regency Enterprises|Appian Way|CatchPlay|Anony...</td>\n",
       "      <td>12/25/15</td>\n",
       "      <td>3929</td>\n",
       "      <td>7.2</td>\n",
       "      <td>2015</td>\n",
       "      <td>1.241999e+08</td>\n",
       "      <td>4.903142e+08</td>\n",
       "    </tr>\n",
       "    <tr>\n",
       "      <th>6</th>\n",
       "      <td>87101</td>\n",
       "      <td>tt1340138</td>\n",
       "      <td>8.654359</td>\n",
       "      <td>155000000</td>\n",
       "      <td>440603537</td>\n",
       "      <td>Terminator Genisys</td>\n",
       "      <td>Arnold Schwarzenegger|Jason Clarke|Emilia Clar...</td>\n",
       "      <td>http://www.terminatormovie.com/</td>\n",
       "      <td>Alan Taylor</td>\n",
       "      <td>Reset the future</td>\n",
       "      <td>...</td>\n",
       "      <td>The year is 2029. John Connor, leader of the r...</td>\n",
       "      <td>125</td>\n",
       "      <td>Science Fiction|Action|Thriller|Adventure</td>\n",
       "      <td>Paramount Pictures|Skydance Productions</td>\n",
       "      <td>6/23/15</td>\n",
       "      <td>2598</td>\n",
       "      <td>5.8</td>\n",
       "      <td>2015</td>\n",
       "      <td>1.425999e+08</td>\n",
       "      <td>4.053551e+08</td>\n",
       "    </tr>\n",
       "    <tr>\n",
       "      <th>7</th>\n",
       "      <td>286217</td>\n",
       "      <td>tt3659388</td>\n",
       "      <td>7.667400</td>\n",
       "      <td>108000000</td>\n",
       "      <td>595380321</td>\n",
       "      <td>The Martian</td>\n",
       "      <td>Matt Damon|Jessica Chastain|Kristen Wiig|Jeff ...</td>\n",
       "      <td>http://www.foxmovies.com/movies/the-martian</td>\n",
       "      <td>Ridley Scott</td>\n",
       "      <td>Bring Him Home</td>\n",
       "      <td>...</td>\n",
       "      <td>During a manned mission to Mars, Astronaut Mar...</td>\n",
       "      <td>141</td>\n",
       "      <td>Drama|Adventure|Science Fiction</td>\n",
       "      <td>Twentieth Century Fox Film Corporation|Scott F...</td>\n",
       "      <td>9/30/15</td>\n",
       "      <td>4572</td>\n",
       "      <td>7.6</td>\n",
       "      <td>2015</td>\n",
       "      <td>9.935996e+07</td>\n",
       "      <td>5.477497e+08</td>\n",
       "    </tr>\n",
       "    <tr>\n",
       "      <th>8</th>\n",
       "      <td>211672</td>\n",
       "      <td>tt2293640</td>\n",
       "      <td>7.404165</td>\n",
       "      <td>74000000</td>\n",
       "      <td>1156730962</td>\n",
       "      <td>Minions</td>\n",
       "      <td>Sandra Bullock|Jon Hamm|Michael Keaton|Allison...</td>\n",
       "      <td>http://www.minionsmovie.com/</td>\n",
       "      <td>Kyle Balda|Pierre Coffin</td>\n",
       "      <td>Before Gru, they had a history of bad bosses</td>\n",
       "      <td>...</td>\n",
       "      <td>Minions Stuart, Kevin and Bob are recruited by...</td>\n",
       "      <td>91</td>\n",
       "      <td>Family|Animation|Adventure|Comedy</td>\n",
       "      <td>Universal Pictures|Illumination Entertainment</td>\n",
       "      <td>6/17/15</td>\n",
       "      <td>2893</td>\n",
       "      <td>6.5</td>\n",
       "      <td>2015</td>\n",
       "      <td>6.807997e+07</td>\n",
       "      <td>1.064192e+09</td>\n",
       "    </tr>\n",
       "    <tr>\n",
       "      <th>9</th>\n",
       "      <td>150540</td>\n",
       "      <td>tt2096673</td>\n",
       "      <td>6.326804</td>\n",
       "      <td>175000000</td>\n",
       "      <td>853708609</td>\n",
       "      <td>Inside Out</td>\n",
       "      <td>Amy Poehler|Phyllis Smith|Richard Kind|Bill Ha...</td>\n",
       "      <td>http://movies.disney.com/inside-out</td>\n",
       "      <td>Pete Docter</td>\n",
       "      <td>Meet the little voices inside your head.</td>\n",
       "      <td>...</td>\n",
       "      <td>Growing up can be a bumpy road, and it's no ex...</td>\n",
       "      <td>94</td>\n",
       "      <td>Comedy|Animation|Family</td>\n",
       "      <td>Walt Disney Pictures|Pixar Animation Studios|W...</td>\n",
       "      <td>6/9/15</td>\n",
       "      <td>3935</td>\n",
       "      <td>8.0</td>\n",
       "      <td>2015</td>\n",
       "      <td>1.609999e+08</td>\n",
       "      <td>7.854116e+08</td>\n",
       "    </tr>\n",
       "    <tr>\n",
       "      <th>10</th>\n",
       "      <td>206647</td>\n",
       "      <td>tt2379713</td>\n",
       "      <td>6.200282</td>\n",
       "      <td>245000000</td>\n",
       "      <td>880674609</td>\n",
       "      <td>Spectre</td>\n",
       "      <td>Daniel Craig|Christoph Waltz|LÃ©a Seydoux|Ralp...</td>\n",
       "      <td>http://www.sonypictures.com/movies/spectre/</td>\n",
       "      <td>Sam Mendes</td>\n",
       "      <td>A Plan No One Escapes</td>\n",
       "      <td>...</td>\n",
       "      <td>A cryptic message from Bondâ€™s past sends him...</td>\n",
       "      <td>148</td>\n",
       "      <td>Action|Adventure|Crime</td>\n",
       "      <td>Columbia Pictures|Danjaq|B24</td>\n",
       "      <td>10/26/15</td>\n",
       "      <td>3254</td>\n",
       "      <td>6.2</td>\n",
       "      <td>2015</td>\n",
       "      <td>2.253999e+08</td>\n",
       "      <td>8.102203e+08</td>\n",
       "    </tr>\n",
       "    <tr>\n",
       "      <th>11</th>\n",
       "      <td>76757</td>\n",
       "      <td>tt1617661</td>\n",
       "      <td>6.189369</td>\n",
       "      <td>176000003</td>\n",
       "      <td>183987723</td>\n",
       "      <td>Jupiter Ascending</td>\n",
       "      <td>Mila Kunis|Channing Tatum|Sean Bean|Eddie Redm...</td>\n",
       "      <td>http://www.jupiterascending.com</td>\n",
       "      <td>Lana Wachowski|Lilly Wachowski</td>\n",
       "      <td>Expand your universe.</td>\n",
       "      <td>...</td>\n",
       "      <td>In a universe where human genetic material is ...</td>\n",
       "      <td>124</td>\n",
       "      <td>Science Fiction|Fantasy|Action|Adventure</td>\n",
       "      <td>Village Roadshow Pictures|Dune Entertainment|A...</td>\n",
       "      <td>2/4/15</td>\n",
       "      <td>1937</td>\n",
       "      <td>5.2</td>\n",
       "      <td>2015</td>\n",
       "      <td>1.619199e+08</td>\n",
       "      <td>1.692686e+08</td>\n",
       "    </tr>\n",
       "    <tr>\n",
       "      <th>12</th>\n",
       "      <td>264660</td>\n",
       "      <td>tt0470752</td>\n",
       "      <td>6.118847</td>\n",
       "      <td>15000000</td>\n",
       "      <td>36869414</td>\n",
       "      <td>Ex Machina</td>\n",
       "      <td>Domhnall Gleeson|Alicia Vikander|Oscar Isaac|S...</td>\n",
       "      <td>http://exmachina-movie.com/</td>\n",
       "      <td>Alex Garland</td>\n",
       "      <td>There is nothing more human than the will to s...</td>\n",
       "      <td>...</td>\n",
       "      <td>Caleb, a 26 year old coder at the world's larg...</td>\n",
       "      <td>108</td>\n",
       "      <td>Drama|Science Fiction</td>\n",
       "      <td>DNA Films|Universal Pictures International (UP...</td>\n",
       "      <td>1/21/15</td>\n",
       "      <td>2854</td>\n",
       "      <td>7.6</td>\n",
       "      <td>2015</td>\n",
       "      <td>1.379999e+07</td>\n",
       "      <td>3.391985e+07</td>\n",
       "    </tr>\n",
       "    <tr>\n",
       "      <th>13</th>\n",
       "      <td>257344</td>\n",
       "      <td>tt2120120</td>\n",
       "      <td>5.984995</td>\n",
       "      <td>88000000</td>\n",
       "      <td>243637091</td>\n",
       "      <td>Pixels</td>\n",
       "      <td>Adam Sandler|Michelle Monaghan|Peter Dinklage|...</td>\n",
       "      <td>http://www.pixels-movie.com/</td>\n",
       "      <td>Chris Columbus</td>\n",
       "      <td>Game On.</td>\n",
       "      <td>...</td>\n",
       "      <td>Video game experts are recruited by the milita...</td>\n",
       "      <td>105</td>\n",
       "      <td>Action|Comedy|Science Fiction</td>\n",
       "      <td>Columbia Pictures|Happy Madison Productions</td>\n",
       "      <td>7/16/15</td>\n",
       "      <td>1575</td>\n",
       "      <td>5.8</td>\n",
       "      <td>2015</td>\n",
       "      <td>8.095996e+07</td>\n",
       "      <td>2.241460e+08</td>\n",
       "    </tr>\n",
       "    <tr>\n",
       "      <th>14</th>\n",
       "      <td>99861</td>\n",
       "      <td>tt2395427</td>\n",
       "      <td>5.944927</td>\n",
       "      <td>280000000</td>\n",
       "      <td>1405035767</td>\n",
       "      <td>Avengers: Age of Ultron</td>\n",
       "      <td>Robert Downey Jr.|Chris Hemsworth|Mark Ruffalo...</td>\n",
       "      <td>http://marvel.com/movies/movie/193/avengers_ag...</td>\n",
       "      <td>Joss Whedon</td>\n",
       "      <td>A New Age Has Come.</td>\n",
       "      <td>...</td>\n",
       "      <td>When Tony Stark tries to jumpstart a dormant p...</td>\n",
       "      <td>141</td>\n",
       "      <td>Action|Adventure|Science Fiction</td>\n",
       "      <td>Marvel Studios|Prime Focus|Revolution Sun Studios</td>\n",
       "      <td>4/22/15</td>\n",
       "      <td>4304</td>\n",
       "      <td>7.4</td>\n",
       "      <td>2015</td>\n",
       "      <td>2.575999e+08</td>\n",
       "      <td>1.292632e+09</td>\n",
       "    </tr>\n",
       "    <tr>\n",
       "      <th>15</th>\n",
       "      <td>273248</td>\n",
       "      <td>tt3460252</td>\n",
       "      <td>5.898400</td>\n",
       "      <td>44000000</td>\n",
       "      <td>155760117</td>\n",
       "      <td>The Hateful Eight</td>\n",
       "      <td>Samuel L. Jackson|Kurt Russell|Jennifer Jason ...</td>\n",
       "      <td>http://thehatefuleight.com/</td>\n",
       "      <td>Quentin Tarantino</td>\n",
       "      <td>No one comes up here without a damn good reason.</td>\n",
       "      <td>...</td>\n",
       "      <td>Bounty hunters seek shelter from a raging bliz...</td>\n",
       "      <td>167</td>\n",
       "      <td>Crime|Drama|Mystery|Western</td>\n",
       "      <td>Double Feature Films|The Weinstein Company|Fil...</td>\n",
       "      <td>12/25/15</td>\n",
       "      <td>2389</td>\n",
       "      <td>7.4</td>\n",
       "      <td>2015</td>\n",
       "      <td>4.047998e+07</td>\n",
       "      <td>1.432992e+08</td>\n",
       "    </tr>\n",
       "    <tr>\n",
       "      <th>16</th>\n",
       "      <td>260346</td>\n",
       "      <td>tt2446042</td>\n",
       "      <td>5.749758</td>\n",
       "      <td>48000000</td>\n",
       "      <td>325771424</td>\n",
       "      <td>Taken 3</td>\n",
       "      <td>Liam Neeson|Forest Whitaker|Maggie Grace|Famke...</td>\n",
       "      <td>http://www.taken3movie.com/</td>\n",
       "      <td>Olivier Megaton</td>\n",
       "      <td>It Ends Here</td>\n",
       "      <td>...</td>\n",
       "      <td>Ex-government operative Bryan Mills finds his ...</td>\n",
       "      <td>109</td>\n",
       "      <td>Crime|Action|Thriller</td>\n",
       "      <td>Twentieth Century Fox Film Corporation|M6 Film...</td>\n",
       "      <td>1/1/15</td>\n",
       "      <td>1578</td>\n",
       "      <td>6.1</td>\n",
       "      <td>2015</td>\n",
       "      <td>4.415998e+07</td>\n",
       "      <td>2.997096e+08</td>\n",
       "    </tr>\n",
       "    <tr>\n",
       "      <th>17</th>\n",
       "      <td>102899</td>\n",
       "      <td>tt0478970</td>\n",
       "      <td>5.573184</td>\n",
       "      <td>130000000</td>\n",
       "      <td>518602163</td>\n",
       "      <td>Ant-Man</td>\n",
       "      <td>Paul Rudd|Michael Douglas|Evangeline Lilly|Cor...</td>\n",
       "      <td>http://marvel.com/movies/movie/180/ant-man</td>\n",
       "      <td>Peyton Reed</td>\n",
       "      <td>Heroes Don't Get Any Bigger</td>\n",
       "      <td>...</td>\n",
       "      <td>Armed with the astonishing ability to shrink i...</td>\n",
       "      <td>115</td>\n",
       "      <td>Science Fiction|Action|Adventure</td>\n",
       "      <td>Marvel Studios</td>\n",
       "      <td>7/14/15</td>\n",
       "      <td>3779</td>\n",
       "      <td>7.0</td>\n",
       "      <td>2015</td>\n",
       "      <td>1.195999e+08</td>\n",
       "      <td>4.771138e+08</td>\n",
       "    </tr>\n",
       "    <tr>\n",
       "      <th>18</th>\n",
       "      <td>150689</td>\n",
       "      <td>tt1661199</td>\n",
       "      <td>5.556818</td>\n",
       "      <td>95000000</td>\n",
       "      <td>542351353</td>\n",
       "      <td>Cinderella</td>\n",
       "      <td>Lily James|Cate Blanchett|Richard Madden|Helen...</td>\n",
       "      <td>NaN</td>\n",
       "      <td>Kenneth Branagh</td>\n",
       "      <td>Midnight is just the beginning.</td>\n",
       "      <td>...</td>\n",
       "      <td>When her father unexpectedly passes away, youn...</td>\n",
       "      <td>112</td>\n",
       "      <td>Romance|Fantasy|Family|Drama</td>\n",
       "      <td>Walt Disney Pictures|Genre Films|Beagle Pug Fi...</td>\n",
       "      <td>3/12/15</td>\n",
       "      <td>1495</td>\n",
       "      <td>6.8</td>\n",
       "      <td>2015</td>\n",
       "      <td>8.739996e+07</td>\n",
       "      <td>4.989630e+08</td>\n",
       "    </tr>\n",
       "    <tr>\n",
       "      <th>19</th>\n",
       "      <td>131634</td>\n",
       "      <td>tt1951266</td>\n",
       "      <td>5.476958</td>\n",
       "      <td>160000000</td>\n",
       "      <td>650523427</td>\n",
       "      <td>The Hunger Games: Mockingjay - Part 2</td>\n",
       "      <td>Jennifer Lawrence|Josh Hutcherson|Liam Hemswor...</td>\n",
       "      <td>http://www.thehungergames.movie/</td>\n",
       "      <td>Francis Lawrence</td>\n",
       "      <td>The fire will burn forever.</td>\n",
       "      <td>...</td>\n",
       "      <td>With the nation of Panem in a full scale war, ...</td>\n",
       "      <td>136</td>\n",
       "      <td>War|Adventure|Science Fiction</td>\n",
       "      <td>Studio Babelsberg|StudioCanal|Lionsgate|Walt D...</td>\n",
       "      <td>11/18/15</td>\n",
       "      <td>2380</td>\n",
       "      <td>6.5</td>\n",
       "      <td>2015</td>\n",
       "      <td>1.471999e+08</td>\n",
       "      <td>5.984813e+08</td>\n",
       "    </tr>\n",
       "  </tbody>\n",
       "</table>\n",
       "<p>20 rows × 21 columns</p>\n",
       "</div>"
      ],
      "text/plain": [
       "        id    imdb_id  popularity     budget     revenue  \\\n",
       "0   135397  tt0369610   32.985763  150000000  1513528810   \n",
       "1    76341  tt1392190   28.419936  150000000   378436354   \n",
       "2   262500  tt2908446   13.112507  110000000   295238201   \n",
       "3   140607  tt2488496   11.173104  200000000  2068178225   \n",
       "4   168259  tt2820852    9.335014  190000000  1506249360   \n",
       "5   281957  tt1663202    9.110700  135000000   532950503   \n",
       "6    87101  tt1340138    8.654359  155000000   440603537   \n",
       "7   286217  tt3659388    7.667400  108000000   595380321   \n",
       "8   211672  tt2293640    7.404165   74000000  1156730962   \n",
       "9   150540  tt2096673    6.326804  175000000   853708609   \n",
       "10  206647  tt2379713    6.200282  245000000   880674609   \n",
       "11   76757  tt1617661    6.189369  176000003   183987723   \n",
       "12  264660  tt0470752    6.118847   15000000    36869414   \n",
       "13  257344  tt2120120    5.984995   88000000   243637091   \n",
       "14   99861  tt2395427    5.944927  280000000  1405035767   \n",
       "15  273248  tt3460252    5.898400   44000000   155760117   \n",
       "16  260346  tt2446042    5.749758   48000000   325771424   \n",
       "17  102899  tt0478970    5.573184  130000000   518602163   \n",
       "18  150689  tt1661199    5.556818   95000000   542351353   \n",
       "19  131634  tt1951266    5.476958  160000000   650523427   \n",
       "\n",
       "                           original_title  \\\n",
       "0                          Jurassic World   \n",
       "1                      Mad Max: Fury Road   \n",
       "2                               Insurgent   \n",
       "3            Star Wars: The Force Awakens   \n",
       "4                               Furious 7   \n",
       "5                            The Revenant   \n",
       "6                      Terminator Genisys   \n",
       "7                             The Martian   \n",
       "8                                 Minions   \n",
       "9                              Inside Out   \n",
       "10                                Spectre   \n",
       "11                      Jupiter Ascending   \n",
       "12                             Ex Machina   \n",
       "13                                 Pixels   \n",
       "14                Avengers: Age of Ultron   \n",
       "15                      The Hateful Eight   \n",
       "16                                Taken 3   \n",
       "17                                Ant-Man   \n",
       "18                             Cinderella   \n",
       "19  The Hunger Games: Mockingjay - Part 2   \n",
       "\n",
       "                                                 cast  \\\n",
       "0   Chris Pratt|Bryce Dallas Howard|Irrfan Khan|Vi...   \n",
       "1   Tom Hardy|Charlize Theron|Hugh Keays-Byrne|Nic...   \n",
       "2   Shailene Woodley|Theo James|Kate Winslet|Ansel...   \n",
       "3   Harrison Ford|Mark Hamill|Carrie Fisher|Adam D...   \n",
       "4   Vin Diesel|Paul Walker|Jason Statham|Michelle ...   \n",
       "5   Leonardo DiCaprio|Tom Hardy|Will Poulter|Domhn...   \n",
       "6   Arnold Schwarzenegger|Jason Clarke|Emilia Clar...   \n",
       "7   Matt Damon|Jessica Chastain|Kristen Wiig|Jeff ...   \n",
       "8   Sandra Bullock|Jon Hamm|Michael Keaton|Allison...   \n",
       "9   Amy Poehler|Phyllis Smith|Richard Kind|Bill Ha...   \n",
       "10  Daniel Craig|Christoph Waltz|LÃ©a Seydoux|Ralp...   \n",
       "11  Mila Kunis|Channing Tatum|Sean Bean|Eddie Redm...   \n",
       "12  Domhnall Gleeson|Alicia Vikander|Oscar Isaac|S...   \n",
       "13  Adam Sandler|Michelle Monaghan|Peter Dinklage|...   \n",
       "14  Robert Downey Jr.|Chris Hemsworth|Mark Ruffalo...   \n",
       "15  Samuel L. Jackson|Kurt Russell|Jennifer Jason ...   \n",
       "16  Liam Neeson|Forest Whitaker|Maggie Grace|Famke...   \n",
       "17  Paul Rudd|Michael Douglas|Evangeline Lilly|Cor...   \n",
       "18  Lily James|Cate Blanchett|Richard Madden|Helen...   \n",
       "19  Jennifer Lawrence|Josh Hutcherson|Liam Hemswor...   \n",
       "\n",
       "                                             homepage  \\\n",
       "0                       http://www.jurassicworld.com/   \n",
       "1                         http://www.madmaxmovie.com/   \n",
       "2      http://www.thedivergentseries.movie/#insurgent   \n",
       "3   http://www.starwars.com/films/star-wars-episod...   \n",
       "4                            http://www.furious7.com/   \n",
       "5        http://www.foxmovies.com/movies/the-revenant   \n",
       "6                     http://www.terminatormovie.com/   \n",
       "7         http://www.foxmovies.com/movies/the-martian   \n",
       "8                        http://www.minionsmovie.com/   \n",
       "9                 http://movies.disney.com/inside-out   \n",
       "10        http://www.sonypictures.com/movies/spectre/   \n",
       "11                    http://www.jupiterascending.com   \n",
       "12                        http://exmachina-movie.com/   \n",
       "13                       http://www.pixels-movie.com/   \n",
       "14  http://marvel.com/movies/movie/193/avengers_ag...   \n",
       "15                        http://thehatefuleight.com/   \n",
       "16                        http://www.taken3movie.com/   \n",
       "17         http://marvel.com/movies/movie/180/ant-man   \n",
       "18                                                NaN   \n",
       "19                   http://www.thehungergames.movie/   \n",
       "\n",
       "                          director  \\\n",
       "0                  Colin Trevorrow   \n",
       "1                    George Miller   \n",
       "2                 Robert Schwentke   \n",
       "3                      J.J. Abrams   \n",
       "4                        James Wan   \n",
       "5   Alejandro GonzÃ¡lez IÃ±Ã¡rritu   \n",
       "6                      Alan Taylor   \n",
       "7                     Ridley Scott   \n",
       "8         Kyle Balda|Pierre Coffin   \n",
       "9                      Pete Docter   \n",
       "10                      Sam Mendes   \n",
       "11  Lana Wachowski|Lilly Wachowski   \n",
       "12                    Alex Garland   \n",
       "13                  Chris Columbus   \n",
       "14                     Joss Whedon   \n",
       "15               Quentin Tarantino   \n",
       "16                 Olivier Megaton   \n",
       "17                     Peyton Reed   \n",
       "18                 Kenneth Branagh   \n",
       "19                Francis Lawrence   \n",
       "\n",
       "                                              tagline  ...  \\\n",
       "0                                   The park is open.  ...   \n",
       "1                                  What a Lovely Day.  ...   \n",
       "2                          One Choice Can Destroy You  ...   \n",
       "3                       Every generation has a story.  ...   \n",
       "4                                 Vengeance Hits Home  ...   \n",
       "5     (n. One who has returned, as if from the dead.)  ...   \n",
       "6                                    Reset the future  ...   \n",
       "7                                      Bring Him Home  ...   \n",
       "8        Before Gru, they had a history of bad bosses  ...   \n",
       "9            Meet the little voices inside your head.  ...   \n",
       "10                              A Plan No One Escapes  ...   \n",
       "11                              Expand your universe.  ...   \n",
       "12  There is nothing more human than the will to s...  ...   \n",
       "13                                           Game On.  ...   \n",
       "14                                A New Age Has Come.  ...   \n",
       "15   No one comes up here without a damn good reason.  ...   \n",
       "16                                       It Ends Here  ...   \n",
       "17                        Heroes Don't Get Any Bigger  ...   \n",
       "18                    Midnight is just the beginning.  ...   \n",
       "19                        The fire will burn forever.  ...   \n",
       "\n",
       "                                             overview runtime  \\\n",
       "0   Twenty-two years after the events of Jurassic ...     124   \n",
       "1   An apocalyptic story set in the furthest reach...     120   \n",
       "2   Beatrice Prior must confront her inner demons ...     119   \n",
       "3   Thirty years after defeating the Galactic Empi...     136   \n",
       "4   Deckard Shaw seeks revenge against Dominic Tor...     137   \n",
       "5   In the 1820s, a frontiersman, Hugh Glass, sets...     156   \n",
       "6   The year is 2029. John Connor, leader of the r...     125   \n",
       "7   During a manned mission to Mars, Astronaut Mar...     141   \n",
       "8   Minions Stuart, Kevin and Bob are recruited by...      91   \n",
       "9   Growing up can be a bumpy road, and it's no ex...      94   \n",
       "10  A cryptic message from Bondâ€™s past sends him...     148   \n",
       "11  In a universe where human genetic material is ...     124   \n",
       "12  Caleb, a 26 year old coder at the world's larg...     108   \n",
       "13  Video game experts are recruited by the milita...     105   \n",
       "14  When Tony Stark tries to jumpstart a dormant p...     141   \n",
       "15  Bounty hunters seek shelter from a raging bliz...     167   \n",
       "16  Ex-government operative Bryan Mills finds his ...     109   \n",
       "17  Armed with the astonishing ability to shrink i...     115   \n",
       "18  When her father unexpectedly passes away, youn...     112   \n",
       "19  With the nation of Panem in a full scale war, ...     136   \n",
       "\n",
       "                                       genres  \\\n",
       "0   Action|Adventure|Science Fiction|Thriller   \n",
       "1   Action|Adventure|Science Fiction|Thriller   \n",
       "2          Adventure|Science Fiction|Thriller   \n",
       "3    Action|Adventure|Science Fiction|Fantasy   \n",
       "4                       Action|Crime|Thriller   \n",
       "5            Western|Drama|Adventure|Thriller   \n",
       "6   Science Fiction|Action|Thriller|Adventure   \n",
       "7             Drama|Adventure|Science Fiction   \n",
       "8           Family|Animation|Adventure|Comedy   \n",
       "9                     Comedy|Animation|Family   \n",
       "10                     Action|Adventure|Crime   \n",
       "11   Science Fiction|Fantasy|Action|Adventure   \n",
       "12                      Drama|Science Fiction   \n",
       "13              Action|Comedy|Science Fiction   \n",
       "14           Action|Adventure|Science Fiction   \n",
       "15                Crime|Drama|Mystery|Western   \n",
       "16                      Crime|Action|Thriller   \n",
       "17           Science Fiction|Action|Adventure   \n",
       "18               Romance|Fantasy|Family|Drama   \n",
       "19              War|Adventure|Science Fiction   \n",
       "\n",
       "                                 production_companies release_date vote_count  \\\n",
       "0   Universal Studios|Amblin Entertainment|Legenda...       6/9/15       5562   \n",
       "1   Village Roadshow Pictures|Kennedy Miller Produ...      5/13/15       6185   \n",
       "2   Summit Entertainment|Mandeville Films|Red Wago...      3/18/15       2480   \n",
       "3           Lucasfilm|Truenorth Productions|Bad Robot     12/15/15       5292   \n",
       "4   Universal Pictures|Original Film|Media Rights ...       4/1/15       2947   \n",
       "5   Regency Enterprises|Appian Way|CatchPlay|Anony...     12/25/15       3929   \n",
       "6             Paramount Pictures|Skydance Productions      6/23/15       2598   \n",
       "7   Twentieth Century Fox Film Corporation|Scott F...      9/30/15       4572   \n",
       "8       Universal Pictures|Illumination Entertainment      6/17/15       2893   \n",
       "9   Walt Disney Pictures|Pixar Animation Studios|W...       6/9/15       3935   \n",
       "10                       Columbia Pictures|Danjaq|B24     10/26/15       3254   \n",
       "11  Village Roadshow Pictures|Dune Entertainment|A...       2/4/15       1937   \n",
       "12  DNA Films|Universal Pictures International (UP...      1/21/15       2854   \n",
       "13        Columbia Pictures|Happy Madison Productions      7/16/15       1575   \n",
       "14  Marvel Studios|Prime Focus|Revolution Sun Studios      4/22/15       4304   \n",
       "15  Double Feature Films|The Weinstein Company|Fil...     12/25/15       2389   \n",
       "16  Twentieth Century Fox Film Corporation|M6 Film...       1/1/15       1578   \n",
       "17                                     Marvel Studios      7/14/15       3779   \n",
       "18  Walt Disney Pictures|Genre Films|Beagle Pug Fi...      3/12/15       1495   \n",
       "19  Studio Babelsberg|StudioCanal|Lionsgate|Walt D...     11/18/15       2380   \n",
       "\n",
       "    vote_average  release_year    budget_adj   revenue_adj  \n",
       "0            6.5          2015  1.379999e+08  1.392446e+09  \n",
       "1            7.1          2015  1.379999e+08  3.481613e+08  \n",
       "2            6.3          2015  1.012000e+08  2.716190e+08  \n",
       "3            7.5          2015  1.839999e+08  1.902723e+09  \n",
       "4            7.3          2015  1.747999e+08  1.385749e+09  \n",
       "5            7.2          2015  1.241999e+08  4.903142e+08  \n",
       "6            5.8          2015  1.425999e+08  4.053551e+08  \n",
       "7            7.6          2015  9.935996e+07  5.477497e+08  \n",
       "8            6.5          2015  6.807997e+07  1.064192e+09  \n",
       "9            8.0          2015  1.609999e+08  7.854116e+08  \n",
       "10           6.2          2015  2.253999e+08  8.102203e+08  \n",
       "11           5.2          2015  1.619199e+08  1.692686e+08  \n",
       "12           7.6          2015  1.379999e+07  3.391985e+07  \n",
       "13           5.8          2015  8.095996e+07  2.241460e+08  \n",
       "14           7.4          2015  2.575999e+08  1.292632e+09  \n",
       "15           7.4          2015  4.047998e+07  1.432992e+08  \n",
       "16           6.1          2015  4.415998e+07  2.997096e+08  \n",
       "17           7.0          2015  1.195999e+08  4.771138e+08  \n",
       "18           6.8          2015  8.739996e+07  4.989630e+08  \n",
       "19           6.5          2015  1.471999e+08  5.984813e+08  \n",
       "\n",
       "[20 rows x 21 columns]"
      ]
     },
     "execution_count": 55,
     "metadata": {},
     "output_type": "execute_result"
    }
   ],
   "source": [
    "df=pd.read_csv('tmdb-movies.csv')\n",
    "df.head(20)"
   ]
  },
  {
   "cell_type": "markdown",
   "metadata": {},
   "source": [
    "### Assessing and Cleaning of the Data"
   ]
  },
  {
   "cell_type": "code",
   "execution_count": 3,
   "metadata": {},
   "outputs": [
    {
     "data": {
      "text/plain": [
       "(10866, 21)"
      ]
     },
     "execution_count": 3,
     "metadata": {},
     "output_type": "execute_result"
    }
   ],
   "source": [
    "df.shape"
   ]
  },
  {
   "cell_type": "code",
   "execution_count": 4,
   "metadata": {},
   "outputs": [
    {
     "name": "stdout",
     "output_type": "stream",
     "text": [
      "<class 'pandas.core.frame.DataFrame'>\n",
      "RangeIndex: 10866 entries, 0 to 10865\n",
      "Data columns (total 21 columns):\n",
      " #   Column                Non-Null Count  Dtype  \n",
      "---  ------                --------------  -----  \n",
      " 0   id                    10866 non-null  int64  \n",
      " 1   imdb_id               10856 non-null  object \n",
      " 2   popularity            10866 non-null  float64\n",
      " 3   budget                10866 non-null  int64  \n",
      " 4   revenue               10866 non-null  int64  \n",
      " 5   original_title        10866 non-null  object \n",
      " 6   cast                  10790 non-null  object \n",
      " 7   homepage              2936 non-null   object \n",
      " 8   director              10822 non-null  object \n",
      " 9   tagline               8042 non-null   object \n",
      " 10  keywords              9373 non-null   object \n",
      " 11  overview              10862 non-null  object \n",
      " 12  runtime               10866 non-null  int64  \n",
      " 13  genres                10843 non-null  object \n",
      " 14  production_companies  9836 non-null   object \n",
      " 15  release_date          10866 non-null  object \n",
      " 16  vote_count            10866 non-null  int64  \n",
      " 17  vote_average          10866 non-null  float64\n",
      " 18  release_year          10866 non-null  int64  \n",
      " 19  budget_adj            10866 non-null  float64\n",
      " 20  revenue_adj           10866 non-null  float64\n",
      "dtypes: float64(4), int64(6), object(11)\n",
      "memory usage: 1.7+ MB\n"
     ]
    }
   ],
   "source": [
    "df.info()"
   ]
  },
  {
   "cell_type": "markdown",
   "metadata": {},
   "source": [
    "Now , I will delete the columns ('keywords','homepage','tagline') due to thier data limitation"
   ]
  },
  {
   "cell_type": "code",
   "execution_count": 5,
   "metadata": {},
   "outputs": [],
   "source": [
    "df.drop(['keywords','homepage','tagline'],axis=1,inplace=True)"
   ]
  },
  {
   "cell_type": "markdown",
   "metadata": {},
   "source": [
    "Then ,I will delete the null (Nan) values in the dataframe through the columns that contain Nan"
   ]
  },
  {
   "cell_type": "code",
   "execution_count": 6,
   "metadata": {},
   "outputs": [
    {
     "data": {
      "text/plain": [
       "0        Chris Pratt|Bryce Dallas Howard|Irrfan Khan|Vi...\n",
       "1        Tom Hardy|Charlize Theron|Hugh Keays-Byrne|Nic...\n",
       "2        Shailene Woodley|Theo James|Kate Winslet|Ansel...\n",
       "3        Harrison Ford|Mark Hamill|Carrie Fisher|Adam D...\n",
       "4        Vin Diesel|Paul Walker|Jason Statham|Michelle ...\n",
       "                               ...                        \n",
       "10861    Michael Hynson|Robert August|Lord 'Tally Ho' B...\n",
       "10862    James Garner|Eva Marie Saint|Yves Montand|Tosh...\n",
       "10863    Innokentiy Smoktunovskiy|Oleg Efremov|Georgi Z...\n",
       "10864    Tatsuya Mihashi|Akiko Wakabayashi|Mie Hama|Joh...\n",
       "10865    Harold P. Warren|Tom Neyman|John Reynolds|Dian...\n",
       "Name: cast, Length: 10866, dtype: object"
      ]
     },
     "execution_count": 6,
     "metadata": {},
     "output_type": "execute_result"
    }
   ],
   "source": [
    "df['cast']"
   ]
  },
  {
   "cell_type": "code",
   "execution_count": 7,
   "metadata": {},
   "outputs": [],
   "source": [
    "#dropping (deleting ) the null rows which contains null in ('cast','imdb_id','overview') columns\n",
    "df.dropna(inplace=True,subset=['cast','imdb_id','overview' ])"
   ]
  },
  {
   "cell_type": "code",
   "execution_count": 8,
   "metadata": {},
   "outputs": [],
   "source": [
    "#deleting the null rows of columns ['director'] and ['genres']\n",
    "df.dropna(inplace=True,subset=['genres','director'])"
   ]
  },
  {
   "cell_type": "code",
   "execution_count": 9,
   "metadata": {},
   "outputs": [
    {
     "data": {
      "text/plain": [
       "id                        0\n",
       "imdb_id                   0\n",
       "popularity                0\n",
       "budget                    0\n",
       "revenue                   0\n",
       "original_title            0\n",
       "cast                      0\n",
       "director                  0\n",
       "overview                  0\n",
       "runtime                   0\n",
       "genres                    0\n",
       "production_companies    954\n",
       "release_date              0\n",
       "vote_count                0\n",
       "vote_average              0\n",
       "release_year              0\n",
       "budget_adj                0\n",
       "revenue_adj               0\n",
       "dtype: int64"
      ]
     },
     "execution_count": 9,
     "metadata": {},
     "output_type": "execute_result"
    }
   ],
   "source": [
    "df.isnull().sum()"
   ]
  },
  {
   "cell_type": "code",
   "execution_count": 10,
   "metadata": {},
   "outputs": [
    {
     "name": "stdout",
     "output_type": "stream",
     "text": [
      "<class 'pandas.core.frame.DataFrame'>\n",
      "Int64Index: 10725 entries, 0 to 10865\n",
      "Data columns (total 18 columns):\n",
      " #   Column                Non-Null Count  Dtype  \n",
      "---  ------                --------------  -----  \n",
      " 0   id                    10725 non-null  int64  \n",
      " 1   imdb_id               10725 non-null  object \n",
      " 2   popularity            10725 non-null  float64\n",
      " 3   budget                10725 non-null  int64  \n",
      " 4   revenue               10725 non-null  int64  \n",
      " 5   original_title        10725 non-null  object \n",
      " 6   cast                  10725 non-null  object \n",
      " 7   director              10725 non-null  object \n",
      " 8   overview              10725 non-null  object \n",
      " 9   runtime               10725 non-null  int64  \n",
      " 10  genres                10725 non-null  object \n",
      " 11  production_companies  9771 non-null   object \n",
      " 12  release_date          10725 non-null  object \n",
      " 13  vote_count            10725 non-null  int64  \n",
      " 14  vote_average          10725 non-null  float64\n",
      " 15  release_year          10725 non-null  int64  \n",
      " 16  budget_adj            10725 non-null  float64\n",
      " 17  revenue_adj           10725 non-null  float64\n",
      "dtypes: float64(4), int64(6), object(8)\n",
      "memory usage: 1.6+ MB\n"
     ]
    }
   ],
   "source": [
    "df.info()"
   ]
  },
  {
   "cell_type": "markdown",
   "metadata": {},
   "source": [
    "Filling Null(Nan) values in production_companies column with 'missing ,as this column is important even if it is containing many missing values"
   ]
  },
  {
   "cell_type": "code",
   "execution_count": 11,
   "metadata": {},
   "outputs": [],
   "source": [
    "# fill null values in [production_companies] column with 'missing'\n",
    "df.production_companies.fillna('missing',inplace=True)"
   ]
  },
  {
   "cell_type": "code",
   "execution_count": 12,
   "metadata": {
    "scrolled": true
   },
   "outputs": [
    {
     "name": "stdout",
     "output_type": "stream",
     "text": [
      "<class 'pandas.core.frame.DataFrame'>\n",
      "Int64Index: 10725 entries, 0 to 10865\n",
      "Data columns (total 18 columns):\n",
      " #   Column                Non-Null Count  Dtype  \n",
      "---  ------                --------------  -----  \n",
      " 0   id                    10725 non-null  int64  \n",
      " 1   imdb_id               10725 non-null  object \n",
      " 2   popularity            10725 non-null  float64\n",
      " 3   budget                10725 non-null  int64  \n",
      " 4   revenue               10725 non-null  int64  \n",
      " 5   original_title        10725 non-null  object \n",
      " 6   cast                  10725 non-null  object \n",
      " 7   director              10725 non-null  object \n",
      " 8   overview              10725 non-null  object \n",
      " 9   runtime               10725 non-null  int64  \n",
      " 10  genres                10725 non-null  object \n",
      " 11  production_companies  10725 non-null  object \n",
      " 12  release_date          10725 non-null  object \n",
      " 13  vote_count            10725 non-null  int64  \n",
      " 14  vote_average          10725 non-null  float64\n",
      " 15  release_year          10725 non-null  int64  \n",
      " 16  budget_adj            10725 non-null  float64\n",
      " 17  revenue_adj           10725 non-null  float64\n",
      "dtypes: float64(4), int64(6), object(8)\n",
      "memory usage: 1.6+ MB\n"
     ]
    },
    {
     "data": {
      "text/plain": [
       "(None, (10725, 18))"
      ]
     },
     "execution_count": 12,
     "metadata": {},
     "output_type": "execute_result"
    }
   ],
   "source": [
    "#now we have a dataframe without any null and with a new shape (number of rows and columns)\n",
    "df.info(),df.shape"
   ]
  },
  {
   "cell_type": "markdown",
   "metadata": {},
   "source": [
    "Deleting the duplicated movies"
   ]
  },
  {
   "cell_type": "code",
   "execution_count": 13,
   "metadata": {},
   "outputs": [
    {
     "data": {
      "text/plain": [
       "1"
      ]
     },
     "execution_count": 13,
     "metadata": {},
     "output_type": "execute_result"
    }
   ],
   "source": [
    "df.duplicated().sum()"
   ]
  },
  {
   "cell_type": "code",
   "execution_count": 14,
   "metadata": {},
   "outputs": [
    {
     "data": {
      "text/plain": [
       "293"
      ]
     },
     "execution_count": 14,
     "metadata": {},
     "output_type": "execute_result"
    }
   ],
   "source": [
    "df.original_title.duplicated().sum()"
   ]
  },
  {
   "cell_type": "code",
   "execution_count": 15,
   "metadata": {},
   "outputs": [],
   "source": [
    "df.drop_duplicates(subset=['original_title'],inplace=True)"
   ]
  },
  {
   "cell_type": "code",
   "execution_count": 16,
   "metadata": {},
   "outputs": [
    {
     "data": {
      "text/plain": [
       "0"
      ]
     },
     "execution_count": 16,
     "metadata": {},
     "output_type": "execute_result"
    }
   ],
   "source": [
    "df.original_title.duplicated().sum()"
   ]
  },
  {
   "cell_type": "code",
   "execution_count": 17,
   "metadata": {},
   "outputs": [
    {
     "data": {
      "text/plain": [
       "0"
      ]
     },
     "execution_count": 17,
     "metadata": {},
     "output_type": "execute_result"
    }
   ],
   "source": [
    "df.duplicated().sum()"
   ]
  },
  {
   "cell_type": "markdown",
   "metadata": {},
   "source": [
    "Deleting the movies of \"Runtime\" zero values"
   ]
  },
  {
   "cell_type": "code",
   "execution_count": 18,
   "metadata": {},
   "outputs": [],
   "source": [
    "#deleting rows of the movies of runtime of zero\n",
    "df = df[df.runtime != 0]"
   ]
  },
  {
   "cell_type": "code",
   "execution_count": 19,
   "metadata": {},
   "outputs": [
    {
     "name": "stdout",
     "output_type": "stream",
     "text": [
      "<class 'pandas.core.frame.DataFrame'>\n",
      "Int64Index: 10405 entries, 0 to 10865\n",
      "Data columns (total 18 columns):\n",
      " #   Column                Non-Null Count  Dtype  \n",
      "---  ------                --------------  -----  \n",
      " 0   id                    10405 non-null  int64  \n",
      " 1   imdb_id               10405 non-null  object \n",
      " 2   popularity            10405 non-null  float64\n",
      " 3   budget                10405 non-null  int64  \n",
      " 4   revenue               10405 non-null  int64  \n",
      " 5   original_title        10405 non-null  object \n",
      " 6   cast                  10405 non-null  object \n",
      " 7   director              10405 non-null  object \n",
      " 8   overview              10405 non-null  object \n",
      " 9   runtime               10405 non-null  int64  \n",
      " 10  genres                10405 non-null  object \n",
      " 11  production_companies  10405 non-null  object \n",
      " 12  release_date          10405 non-null  object \n",
      " 13  vote_count            10405 non-null  int64  \n",
      " 14  vote_average          10405 non-null  float64\n",
      " 15  release_year          10405 non-null  int64  \n",
      " 16  budget_adj            10405 non-null  float64\n",
      " 17  revenue_adj           10405 non-null  float64\n",
      "dtypes: float64(4), int64(6), object(8)\n",
      "memory usage: 1.5+ MB\n"
     ]
    }
   ],
   "source": [
    "df.info()"
   ]
  },
  {
   "cell_type": "code",
   "execution_count": 20,
   "metadata": {},
   "outputs": [
    {
     "data": {
      "text/plain": [
       "Index(['id', 'imdb_id', 'popularity', 'budget', 'revenue', 'original_title',\n",
       "       'cast', 'director', 'overview', 'runtime', 'genres',\n",
       "       'production_companies', 'release_date', 'vote_count', 'vote_average',\n",
       "       'release_year', 'budget_adj', 'revenue_adj'],\n",
       "      dtype='object')"
      ]
     },
     "execution_count": 20,
     "metadata": {},
     "output_type": "execute_result"
    }
   ],
   "source": [
    "df.columns"
   ]
  },
  {
   "cell_type": "markdown",
   "metadata": {},
   "source": [
    "Converting \"release_date\" column to datetime type"
   ]
  },
  {
   "cell_type": "code",
   "execution_count": 21,
   "metadata": {},
   "outputs": [],
   "source": [
    "df['release_date']=pd.to_datetime(df['release_date'])\n",
    "df['month'] = df['release_date'].dt.month"
   ]
  },
  {
   "cell_type": "code",
   "execution_count": 22,
   "metadata": {},
   "outputs": [
    {
     "data": {
      "text/html": [
       "<div>\n",
       "<style scoped>\n",
       "    .dataframe tbody tr th:only-of-type {\n",
       "        vertical-align: middle;\n",
       "    }\n",
       "\n",
       "    .dataframe tbody tr th {\n",
       "        vertical-align: top;\n",
       "    }\n",
       "\n",
       "    .dataframe thead th {\n",
       "        text-align: right;\n",
       "    }\n",
       "</style>\n",
       "<table border=\"1\" class=\"dataframe\">\n",
       "  <thead>\n",
       "    <tr style=\"text-align: right;\">\n",
       "      <th></th>\n",
       "      <th>id</th>\n",
       "      <th>imdb_id</th>\n",
       "      <th>popularity</th>\n",
       "      <th>budget</th>\n",
       "      <th>revenue</th>\n",
       "      <th>original_title</th>\n",
       "      <th>cast</th>\n",
       "      <th>director</th>\n",
       "      <th>overview</th>\n",
       "      <th>runtime</th>\n",
       "      <th>genres</th>\n",
       "      <th>production_companies</th>\n",
       "      <th>release_date</th>\n",
       "      <th>vote_count</th>\n",
       "      <th>vote_average</th>\n",
       "      <th>release_year</th>\n",
       "      <th>budget_adj</th>\n",
       "      <th>revenue_adj</th>\n",
       "      <th>month</th>\n",
       "    </tr>\n",
       "  </thead>\n",
       "  <tbody>\n",
       "    <tr>\n",
       "      <th>0</th>\n",
       "      <td>135397</td>\n",
       "      <td>tt0369610</td>\n",
       "      <td>32.985763</td>\n",
       "      <td>150000000</td>\n",
       "      <td>1513528810</td>\n",
       "      <td>Jurassic World</td>\n",
       "      <td>Chris Pratt|Bryce Dallas Howard|Irrfan Khan|Vi...</td>\n",
       "      <td>Colin Trevorrow</td>\n",
       "      <td>Twenty-two years after the events of Jurassic ...</td>\n",
       "      <td>124</td>\n",
       "      <td>Action|Adventure|Science Fiction|Thriller</td>\n",
       "      <td>Universal Studios|Amblin Entertainment|Legenda...</td>\n",
       "      <td>2015-06-09</td>\n",
       "      <td>5562</td>\n",
       "      <td>6.5</td>\n",
       "      <td>2015</td>\n",
       "      <td>1.379999e+08</td>\n",
       "      <td>1.392446e+09</td>\n",
       "      <td>6</td>\n",
       "    </tr>\n",
       "    <tr>\n",
       "      <th>1</th>\n",
       "      <td>76341</td>\n",
       "      <td>tt1392190</td>\n",
       "      <td>28.419936</td>\n",
       "      <td>150000000</td>\n",
       "      <td>378436354</td>\n",
       "      <td>Mad Max: Fury Road</td>\n",
       "      <td>Tom Hardy|Charlize Theron|Hugh Keays-Byrne|Nic...</td>\n",
       "      <td>George Miller</td>\n",
       "      <td>An apocalyptic story set in the furthest reach...</td>\n",
       "      <td>120</td>\n",
       "      <td>Action|Adventure|Science Fiction|Thriller</td>\n",
       "      <td>Village Roadshow Pictures|Kennedy Miller Produ...</td>\n",
       "      <td>2015-05-13</td>\n",
       "      <td>6185</td>\n",
       "      <td>7.1</td>\n",
       "      <td>2015</td>\n",
       "      <td>1.379999e+08</td>\n",
       "      <td>3.481613e+08</td>\n",
       "      <td>5</td>\n",
       "    </tr>\n",
       "  </tbody>\n",
       "</table>\n",
       "</div>"
      ],
      "text/plain": [
       "       id    imdb_id  popularity     budget     revenue      original_title  \\\n",
       "0  135397  tt0369610   32.985763  150000000  1513528810      Jurassic World   \n",
       "1   76341  tt1392190   28.419936  150000000   378436354  Mad Max: Fury Road   \n",
       "\n",
       "                                                cast         director  \\\n",
       "0  Chris Pratt|Bryce Dallas Howard|Irrfan Khan|Vi...  Colin Trevorrow   \n",
       "1  Tom Hardy|Charlize Theron|Hugh Keays-Byrne|Nic...    George Miller   \n",
       "\n",
       "                                            overview  runtime  \\\n",
       "0  Twenty-two years after the events of Jurassic ...      124   \n",
       "1  An apocalyptic story set in the furthest reach...      120   \n",
       "\n",
       "                                      genres  \\\n",
       "0  Action|Adventure|Science Fiction|Thriller   \n",
       "1  Action|Adventure|Science Fiction|Thriller   \n",
       "\n",
       "                                production_companies release_date  vote_count  \\\n",
       "0  Universal Studios|Amblin Entertainment|Legenda...   2015-06-09        5562   \n",
       "1  Village Roadshow Pictures|Kennedy Miller Produ...   2015-05-13        6185   \n",
       "\n",
       "   vote_average  release_year    budget_adj   revenue_adj  month  \n",
       "0           6.5          2015  1.379999e+08  1.392446e+09      6  \n",
       "1           7.1          2015  1.379999e+08  3.481613e+08      5  "
      ]
     },
     "execution_count": 22,
     "metadata": {},
     "output_type": "execute_result"
    }
   ],
   "source": [
    "df.head(2)"
   ]
  },
  {
   "cell_type": "markdown",
   "metadata": {},
   "source": [
    "Now we have assessed and cleaned our Dataset"
   ]
  },
  {
   "cell_type": "markdown",
   "metadata": {},
   "source": [
    "<a id='eda'></a>\n",
    "## Exploratory Data Analysis\n",
    "\n",
    "Now we are going to explore and answer the questions regarding the dataset."
   ]
  },
  {
   "cell_type": "code",
   "execution_count": 23,
   "metadata": {},
   "outputs": [
    {
     "data": {
      "text/plain": [
       "Index(['id', 'imdb_id', 'popularity', 'budget', 'revenue', 'original_title',\n",
       "       'cast', 'director', 'overview', 'runtime', 'genres',\n",
       "       'production_companies', 'release_date', 'vote_count', 'vote_average',\n",
       "       'release_year', 'budget_adj', 'revenue_adj', 'month'],\n",
       "      dtype='object')"
      ]
     },
     "execution_count": 23,
     "metadata": {},
     "output_type": "execute_result"
    }
   ],
   "source": [
    "df.columns"
   ]
  },
  {
   "cell_type": "markdown",
   "metadata": {},
   "source": [
    "## Question 1: Which genres are most popular from year to year?"
   ]
  },
  {
   "cell_type": "markdown",
   "metadata": {},
   "source": [
    "<font size=\"3\">Combined Genres:<font>"
   ]
  },
  {
   "cell_type": "code",
   "execution_count": 24,
   "metadata": {
    "scrolled": true
   },
   "outputs": [
    {
     "data": {
      "text/plain": [
       "release_year\n",
       "1960    Animation|Action|Comedy|Family|Science Fiction\n",
       "1961                   Action|Adventure|Family|Fantasy\n",
       "1962                               Action|Comedy|Crime\n",
       "1963                                   Horror|Thriller\n",
       "1964                                   Horror|Thriller\n",
       "1965                                     Drama|Romance\n",
       "1966                                     Drama|History\n",
       "1967                              Drama|Comedy|Romance\n",
       "1968                           Drama|Adventure|History\n",
       "1969             Action|Science Fiction|Thriller|Crime\n",
       "1970                                     Drama|Romance\n",
       "1971                                     Action|Comedy\n",
       "1972                                   Action|Thriller\n",
       "1973                                             Drama\n",
       "1974                                     Drama|Romance\n",
       "1975                                            Action\n",
       "1976                                    Romance|Comedy\n",
       "1977                   Action|Adventure|Drama|Thriller\n",
       "1978                                            Comedy\n",
       "1979                                    Comedy|Romance\n",
       "1980                                             Drama\n",
       "1981                              Comedy|Romance|Drama\n",
       "1982                                       Drama|Music\n",
       "1983                                    Comedy|Romance\n",
       "1984                           Fantasy|Horror|Thriller\n",
       "1985                Animation|Adventure|Family|Fantasy\n",
       "1986                                      Horror|Crime\n",
       "1987                     Action|Adventure|Drama|Family\n",
       "1988                                      Comedy|Drama\n",
       "1989                                     Action|Comedy\n",
       "1990                             Action|Crime|Thriller\n",
       "1991                                  Thriller|Mystery\n",
       "1992                                      Comedy|Drama\n",
       "1993                      Romance|Drama|Thriller|Crime\n",
       "1994                           Horror|Mystery|Thriller\n",
       "1995           Action|Adventure|Crime|Mystery|Thriller\n",
       "1996                                             Drama\n",
       "1997                                            Comedy\n",
       "1998                                     Comedy|Horror\n",
       "1999             Action|Western|Drama|Fantasy|Thriller\n",
       "2000                Animation|Adventure|Fantasy|Family\n",
       "2001                                       Drama|Music\n",
       "2002                                     Drama|Romance\n",
       "2003                                     Horror|Comedy\n",
       "2004                                       Documentary\n",
       "2005                    Action|Comedy|Thriller|Romance\n",
       "2006                                            Horror\n",
       "2007                                    Drama|Thriller\n",
       "2008                              Comedy|Drama|Romance\n",
       "2009                                    Comedy|Romance\n",
       "2010                                    Fantasy|Comedy\n",
       "2011                  Science Fiction|Comedy|Adventure\n",
       "2012                                    Thriller|Drama\n",
       "2013                              Drama|Horror|Mystery\n",
       "2014                              Comedy|Drama|Romance\n",
       "2015                Animation|Adventure|Family|Fantasy\n",
       "Name: genres, dtype: object"
      ]
     },
     "execution_count": 24,
     "metadata": {},
     "output_type": "execute_result"
    },
    {
     "data": {
      "image/png": "[encoded data removed]",
      "text/plain": [
       "<Figure size 720x720 with 1 Axes>"
      ]
     },
     "metadata": {
      "needs_background": "light"
     },
     "output_type": "display_data"
    }
   ],
   "source": [
    "\n",
    "dff=df.groupby('release_year')['popularity'].max().index#.tolist() #xaxis\n",
    "dff2=df.groupby('release_year')['popularity'].max()#.index#.tolist() #xaxis\n",
    "dff2.plot.bar(figsize=(10,10))\n",
    "plt.title(\"Max Popularity value of above genres form year to year\")\n",
    "df.genres[dff]\n"
   ]
  },
  {
   "cell_type": "markdown",
   "metadata": {},
   "source": [
    "<font size=\"3\">Separated Genres:<font>"
   ]
  },
  {
   "cell_type": "code",
   "execution_count": 25,
   "metadata": {},
   "outputs": [
    {
     "data": {
      "text/plain": [
       "release_year\n",
       "1960         Family\n",
       "1961        Fantasy\n",
       "1962          Drama\n",
       "1963    Documentary\n",
       "1964          Drama\n",
       "1965        Romance\n",
       "1966    Documentary\n",
       "1967         Family\n",
       "1968         Horror\n",
       "1969       Thriller\n",
       "1970         Horror\n",
       "1971         Action\n",
       "1972      Adventure\n",
       "1973          Drama\n",
       "1974         Horror\n",
       "1975         Action\n",
       "1976         Comedy\n",
       "1977         Horror\n",
       "1978       Thriller\n",
       "1979       Thriller\n",
       "1980         Horror\n",
       "1981        Mystery\n",
       "1982         Comedy\n",
       "1983          Drama\n",
       "1984        Romance\n",
       "1985        History\n",
       "1986          Drama\n",
       "1987        Fantasy\n",
       "1988         Comedy\n",
       "1989      Adventure\n",
       "1990         Horror\n",
       "1991         Action\n",
       "1992         Comedy\n",
       "1993         Comedy\n",
       "1994         Horror\n",
       "1995         Action\n",
       "1996        Fantasy\n",
       "1997         Comedy\n",
       "1998         Horror\n",
       "1999        Mystery\n",
       "2000          Drama\n",
       "2001        Romance\n",
       "2002         Comedy\n",
       "2003         Horror\n",
       "2004       Thriller\n",
       "2005         Horror\n",
       "2006        Romance\n",
       "2007         Action\n",
       "2008         Comedy\n",
       "2009         Action\n",
       "2010          Drama\n",
       "2011        Romance\n",
       "2012       TV Movie\n",
       "2013         Comedy\n",
       "2014          Drama\n",
       "2015          Drama\n",
       "Name: genres, dtype: object"
      ]
     },
     "execution_count": 25,
     "metadata": {},
     "output_type": "execute_result"
    },
    {
     "data": {
      "image/png": "[encoded data removed]",
      "text/plain": [
       "<Figure size 720x720 with 1 Axes>"
      ]
     },
     "metadata": {
      "needs_background": "light"
     },
     "output_type": "display_data"
    }
   ],
   "source": [
    "df_gen_exp=df.copy()\n",
    "splitgen=['genres']\n",
    "for g in splitgen:\n",
    "    df_gen_exp[g]=df_gen_exp[g].apply(lambda x: x.split(\"|\"))\n",
    "df_gen_exp=df_gen_exp.explode('genres',ignore_index=True)\n",
    "\n",
    "\n",
    "dfff=df_gen_exp.groupby('release_year')['popularity'].max().index#.tolist() #xaxis\n",
    "dfff2=df_gen_exp.groupby('release_year')['popularity'].max()#.index#.tolist() #xaxis\n",
    "#target_gen=df.popularity[dff]#.plot(kind='bar')\n",
    "#print(target_gen)\n",
    "#target_gen.plot.bar()\n",
    "dfff2.plot.bar(figsize=(10,10))\n",
    "plt.title(\"Max Popularity value of above genres form year to year\")\n",
    "df_gen_exp.genres[dff]\n",
    "\n"
   ]
  },
  {
   "cell_type": "markdown",
   "metadata": {},
   "source": [
    "## Question 2: Top 20 Longest and shortest movies?"
   ]
  },
  {
   "cell_type": "code",
   "execution_count": 26,
   "metadata": {},
   "outputs": [],
   "source": [
    "def sortandplot20 (column1,column2,order):\n",
    "    result=df.sort_values(column1,ascending =order).head(20)\n",
    "    pl=sns.barplot(x=column1,y=column2,data=result)\n",
    "    title=plt.title (\"Top 20 Longest {}\".format(column1))\n",
    "    yl=plt.ylabel(\"{}\".format(column2))\n",
    "    xl=plt.xlabel(\"{}\".format(column1))\n",
    "    return result,pl,title,yl,xl\n",
    "    "
   ]
  },
  {
   "cell_type": "code",
   "execution_count": 27,
   "metadata": {},
   "outputs": [
    {
     "data": {
      "image/png": "[encoded data removed]",
      "text/plain": [
       "<Figure size 432x288 with 1 Axes>"
      ]
     },
     "metadata": {
      "needs_background": "light"
     },
     "output_type": "display_data"
    }
   ],
   "source": [
    "sortandplot20('runtime','original_title',False)\n",
    "plt.show()"
   ]
  },
  {
   "cell_type": "code",
   "execution_count": 28,
   "metadata": {},
   "outputs": [
    {
     "data": {
      "image/png": "[encoded data removed]",
      "text/plain": [
       "<Figure size 432x288 with 1 Axes>"
      ]
     },
     "metadata": {
      "needs_background": "light"
     },
     "output_type": "display_data"
    }
   ],
   "source": [
    "sortandplot20('runtime','original_title',True)\n",
    "plt.show()"
   ]
  },
  {
   "cell_type": "markdown",
   "metadata": {},
   "source": [
    "## Question3: Top 100 movies of highest revenue and factors that are associated with it?"
   ]
  },
  {
   "cell_type": "code",
   "execution_count": 29,
   "metadata": {},
   "outputs": [
    {
     "data": {
      "text/plain": [
       "1386                          Avatar\n",
       "3       Star Wars: The Force Awakens\n",
       "5231                         Titanic\n",
       "4361                    The Avengers\n",
       "0                     Jurassic World\n",
       "                    ...             \n",
       "1920                      Iron Man 2\n",
       "7389                     Ratatouille\n",
       "629                     Interstellar\n",
       "7073       The Passion of the Christ\n",
       "2884                      Mamma Mia!\n",
       "Name: original_title, Length: 100, dtype: object"
      ]
     },
     "execution_count": 29,
     "metadata": {},
     "output_type": "execute_result"
    }
   ],
   "source": [
    "top100rev=df.sort_values('revenue',ascending=False).head(100)\n",
    "top100rev.original_title"
   ]
  },
  {
   "cell_type": "markdown",
   "metadata": {},
   "source": [
    "### (Release Month) effect:"
   ]
  },
  {
   "cell_type": "code",
   "execution_count": 30,
   "metadata": {},
   "outputs": [
    {
     "data": {
      "image/png": "[encoded data removed]",
      "text/plain": [
       "<Figure size 432x288 with 1 Axes>"
      ]
     },
     "metadata": {
      "needs_background": "light"
     },
     "output_type": "display_data"
    }
   ],
   "source": [
    "#which month in which most of the high revenue movies are produced:\n",
    "top100rev.month.value_counts().plot(kind='bar')\n",
    "plt.title(\"Most repeated release Month In the highest revenue movies\")\n",
    "plt.xlabel(\"Month\")\n",
    "plt.ylabel(\"frequency\")\n",
    "plt.show()"
   ]
  },
  {
   "cell_type": "markdown",
   "metadata": {},
   "source": [
    "### (Release Year) effect: "
   ]
  },
  {
   "cell_type": "code",
   "execution_count": 31,
   "metadata": {},
   "outputs": [
    {
     "data": {
      "image/png": "[encoded data removed]",
      "text/plain": [
       "<Figure size 432x288 with 1 Axes>"
      ]
     },
     "metadata": {
      "needs_background": "light"
     },
     "output_type": "display_data"
    }
   ],
   "source": [
    "#which year in which most of the high revenue movies are produced:\n",
    "top100rev.release_year.value_counts().plot(kind='bar')\n",
    "plt.title(\"Most year In which high revenue movies are produced\")\n",
    "plt.xlabel(\"Year\")\n",
    "plt.ylabel(\"frequency\")\n",
    "plt.show()"
   ]
  },
  {
   "cell_type": "code",
   "execution_count": 32,
   "metadata": {
    "scrolled": false
   },
   "outputs": [
    {
     "data": {
      "text/html": [
       "<div>\n",
       "<style scoped>\n",
       "    .dataframe tbody tr th:only-of-type {\n",
       "        vertical-align: middle;\n",
       "    }\n",
       "\n",
       "    .dataframe tbody tr th {\n",
       "        vertical-align: top;\n",
       "    }\n",
       "\n",
       "    .dataframe thead th {\n",
       "        text-align: right;\n",
       "    }\n",
       "</style>\n",
       "<table border=\"1\" class=\"dataframe\">\n",
       "  <thead>\n",
       "    <tr style=\"text-align: right;\">\n",
       "      <th></th>\n",
       "      <th>id</th>\n",
       "      <th>popularity</th>\n",
       "      <th>budget</th>\n",
       "      <th>revenue</th>\n",
       "      <th>runtime</th>\n",
       "      <th>vote_count</th>\n",
       "      <th>vote_average</th>\n",
       "      <th>release_year</th>\n",
       "      <th>budget_adj</th>\n",
       "      <th>revenue_adj</th>\n",
       "      <th>month</th>\n",
       "    </tr>\n",
       "  </thead>\n",
       "  <tbody>\n",
       "    <tr>\n",
       "      <th>count</th>\n",
       "      <td>100.000000</td>\n",
       "      <td>100.000000</td>\n",
       "      <td>1.000000e+02</td>\n",
       "      <td>1.000000e+02</td>\n",
       "      <td>100.000000</td>\n",
       "      <td>100.000000</td>\n",
       "      <td>100.000000</td>\n",
       "      <td>100.000000</td>\n",
       "      <td>1.000000e+02</td>\n",
       "      <td>1.000000e+02</td>\n",
       "      <td>100.000000</td>\n",
       "    </tr>\n",
       "    <tr>\n",
       "      <th>mean</th>\n",
       "      <td>42336.640000</td>\n",
       "      <td>5.156102</td>\n",
       "      <td>1.532550e+08</td>\n",
       "      <td>8.913146e+08</td>\n",
       "      <td>130.130000</td>\n",
       "      <td>3449.420000</td>\n",
       "      <td>6.896000</td>\n",
       "      <td>2007.920000</td>\n",
       "      <td>1.561334e+08</td>\n",
       "      <td>9.596516e+08</td>\n",
       "      <td>6.830000</td>\n",
       "    </tr>\n",
       "    <tr>\n",
       "      <th>std</th>\n",
       "      <td>55519.390966</td>\n",
       "      <td>4.474192</td>\n",
       "      <td>6.771552e+07</td>\n",
       "      <td>3.179957e+08</td>\n",
       "      <td>25.108112</td>\n",
       "      <td>1858.863969</td>\n",
       "      <td>0.652256</td>\n",
       "      <td>6.798217</td>\n",
       "      <td>6.322364e+07</td>\n",
       "      <td>4.043112e+08</td>\n",
       "      <td>2.781813</td>\n",
       "    </tr>\n",
       "    <tr>\n",
       "      <th>min</th>\n",
       "      <td>11.000000</td>\n",
       "      <td>0.436803</td>\n",
       "      <td>1.050000e+07</td>\n",
       "      <td>6.098416e+08</td>\n",
       "      <td>88.000000</td>\n",
       "      <td>201.000000</td>\n",
       "      <td>5.600000</td>\n",
       "      <td>1977.000000</td>\n",
       "      <td>2.372625e+07</td>\n",
       "      <td>5.726906e+08</td>\n",
       "      <td>2.000000</td>\n",
       "    </tr>\n",
       "    <tr>\n",
       "      <th>25%</th>\n",
       "      <td>673.750000</td>\n",
       "      <td>2.722714</td>\n",
       "      <td>1.087500e+08</td>\n",
       "      <td>7.093323e+08</td>\n",
       "      <td>110.250000</td>\n",
       "      <td>2193.250000</td>\n",
       "      <td>6.400000</td>\n",
       "      <td>2004.750000</td>\n",
       "      <td>1.143886e+08</td>\n",
       "      <td>7.044446e+08</td>\n",
       "      <td>5.000000</td>\n",
       "    </tr>\n",
       "    <tr>\n",
       "      <th>50%</th>\n",
       "      <td>11893.000000</td>\n",
       "      <td>4.212462</td>\n",
       "      <td>1.500000e+08</td>\n",
       "      <td>7.959344e+08</td>\n",
       "      <td>132.000000</td>\n",
       "      <td>3155.500000</td>\n",
       "      <td>6.900000</td>\n",
       "      <td>2010.000000</td>\n",
       "      <td>1.565855e+08</td>\n",
       "      <td>8.627570e+08</td>\n",
       "      <td>6.000000</td>\n",
       "    </tr>\n",
       "    <tr>\n",
       "      <th>75%</th>\n",
       "      <td>63838.500000</td>\n",
       "      <td>6.022558</td>\n",
       "      <td>2.000000e+08</td>\n",
       "      <td>9.559398e+08</td>\n",
       "      <td>144.250000</td>\n",
       "      <td>4266.000000</td>\n",
       "      <td>7.400000</td>\n",
       "      <td>2013.000000</td>\n",
       "      <td>1.924616e+08</td>\n",
       "      <td>1.062122e+09</td>\n",
       "      <td>9.250000</td>\n",
       "    </tr>\n",
       "    <tr>\n",
       "      <th>max</th>\n",
       "      <td>211672.000000</td>\n",
       "      <td>32.985763</td>\n",
       "      <td>3.800000e+08</td>\n",
       "      <td>2.781506e+09</td>\n",
       "      <td>201.000000</td>\n",
       "      <td>9767.000000</td>\n",
       "      <td>8.100000</td>\n",
       "      <td>2015.000000</td>\n",
       "      <td>3.683713e+08</td>\n",
       "      <td>2.827124e+09</td>\n",
       "      <td>12.000000</td>\n",
       "    </tr>\n",
       "  </tbody>\n",
       "</table>\n",
       "</div>"
      ],
      "text/plain": [
       "                  id  popularity        budget       revenue     runtime  \\\n",
       "count     100.000000  100.000000  1.000000e+02  1.000000e+02  100.000000   \n",
       "mean    42336.640000    5.156102  1.532550e+08  8.913146e+08  130.130000   \n",
       "std     55519.390966    4.474192  6.771552e+07  3.179957e+08   25.108112   \n",
       "min        11.000000    0.436803  1.050000e+07  6.098416e+08   88.000000   \n",
       "25%       673.750000    2.722714  1.087500e+08  7.093323e+08  110.250000   \n",
       "50%     11893.000000    4.212462  1.500000e+08  7.959344e+08  132.000000   \n",
       "75%     63838.500000    6.022558  2.000000e+08  9.559398e+08  144.250000   \n",
       "max    211672.000000   32.985763  3.800000e+08  2.781506e+09  201.000000   \n",
       "\n",
       "        vote_count  vote_average  release_year    budget_adj   revenue_adj  \\\n",
       "count   100.000000    100.000000    100.000000  1.000000e+02  1.000000e+02   \n",
       "mean   3449.420000      6.896000   2007.920000  1.561334e+08  9.596516e+08   \n",
       "std    1858.863969      0.652256      6.798217  6.322364e+07  4.043112e+08   \n",
       "min     201.000000      5.600000   1977.000000  2.372625e+07  5.726906e+08   \n",
       "25%    2193.250000      6.400000   2004.750000  1.143886e+08  7.044446e+08   \n",
       "50%    3155.500000      6.900000   2010.000000  1.565855e+08  8.627570e+08   \n",
       "75%    4266.000000      7.400000   2013.000000  1.924616e+08  1.062122e+09   \n",
       "max    9767.000000      8.100000   2015.000000  3.683713e+08  2.827124e+09   \n",
       "\n",
       "            month  \n",
       "count  100.000000  \n",
       "mean     6.830000  \n",
       "std      2.781813  \n",
       "min      2.000000  \n",
       "25%      5.000000  \n",
       "50%      6.000000  \n",
       "75%      9.250000  \n",
       "max     12.000000  "
      ]
     },
     "execution_count": 32,
     "metadata": {},
     "output_type": "execute_result"
    }
   ],
   "source": [
    "top100rev.describe()"
   ]
  },
  {
   "cell_type": "markdown",
   "metadata": {},
   "source": [
    "##### From the previous table we can notice that the highest revenue movies are associated with the follwowing factors:\n",
    "\n",
    "1. They have an average popularity of 5.156102\n",
    "\n",
    "2. Average of 153 Million Dollars budget.\n",
    "\n",
    "3. Runtime avergae of 130 Minutes.\n",
    "\n",
    "4. Vote average of 6.8\n",
    "\n",
    "5. Movies release in June are more likely to achieve high revenue."
   ]
  },
  {
   "cell_type": "markdown",
   "metadata": {},
   "source": [
    "### Now we will investigate more about the factors of high revenue movies:"
   ]
  },
  {
   "cell_type": "code",
   "execution_count": 33,
   "metadata": {},
   "outputs": [
    {
     "data": {
      "text/plain": [
       "Index(['id', 'imdb_id', 'popularity', 'budget', 'revenue', 'original_title',\n",
       "       'cast', 'director', 'overview', 'runtime', 'genres',\n",
       "       'production_companies', 'release_date', 'vote_count', 'vote_average',\n",
       "       'release_year', 'budget_adj', 'revenue_adj', 'month'],\n",
       "      dtype='object')"
      ]
     },
     "execution_count": 33,
     "metadata": {},
     "output_type": "execute_result"
    }
   ],
   "source": [
    "top100rev.columns"
   ]
  },
  {
   "cell_type": "markdown",
   "metadata": {},
   "source": [
    "### (Director) effect:"
   ]
  },
  {
   "cell_type": "code",
   "execution_count": 34,
   "metadata": {},
   "outputs": [
    {
     "data": {
      "image/png": "[encoded data removed]",
      "text/plain": [
       "<Figure size 360x720 with 1 Axes>"
      ]
     },
     "metadata": {},
     "output_type": "display_data"
    }
   ],
   "source": [
    "top100rev.director.value_counts().head(5).plot(kind='pie',autopct='%1.0f%%', pctdistance=0.7,figsize=(5,10),ylabel=\"\")\n",
    "plt.title(\"Directors who have the most participation in the Top 100 Movies \",fontsize=15)\n",
    "plt.show()"
   ]
  },
  {
   "cell_type": "markdown",
   "metadata": {},
   "source": [
    "### (Cast) effect: "
   ]
  },
  {
   "cell_type": "code",
   "execution_count": 35,
   "metadata": {
    "scrolled": true
   },
   "outputs": [
    {
     "data": {
      "text/plain": [
       "Elijah Wood|Ian McKellen|Viggo Mortensen|Liv Tyler|Orlando Bloom                    3\n",
       "Jennifer Lawrence|Josh Hutcherson|Liam Hemsworth|Woody Harrelson|Elizabeth Banks    3\n",
       "Kristen Stewart|Robert Pattinson|Taylor Lautner|Ashley Greene|Peter Facinelli       2\n",
       "Mike Myers|Eddie Murphy|Cameron Diaz|Julie Andrews|Antonio Banderas                 2\n",
       "Ewan McGregor|Natalie Portman|Hayden Christensen|Ian McDiarmid|Samuel L. Jackson    2\n",
       "                                                                                   ..\n",
       "Mia Wasikowska|Johnny Depp|Anne Hathaway|Helena Bonham Carter|Crispin Glover        1\n",
       "Tom Cruise|Jeremy Renner|Simon Pegg|Rebecca Ferguson|Ving Rhames                    1\n",
       "Jack Black|Dustin Hoffman|Angelina Jolie|Jackie Chan|Lucy Liu                       1\n",
       "Angelina Jolie|Elle Fanning|Juno Temple|Sharlto Copley|Isobelle Molloy              1\n",
       "Tobey Maguire|Kirsten Dunst|James Franco|Thomas Haden Church|Topher Grace           1\n",
       "Name: cast, Length: 92, dtype: int64"
      ]
     },
     "execution_count": 35,
     "metadata": {},
     "output_type": "execute_result"
    }
   ],
   "source": [
    "top100rev.cast.value_counts()\n"
   ]
  },
  {
   "cell_type": "markdown",
   "metadata": {},
   "source": [
    "### (Actor or Actress) effect: "
   ]
  },
  {
   "cell_type": "code",
   "execution_count": 36,
   "metadata": {},
   "outputs": [],
   "source": [
    "top100revcopy=top100rev.copy()"
   ]
  },
  {
   "cell_type": "code",
   "execution_count": 37,
   "metadata": {},
   "outputs": [],
   "source": [
    "split=['cast']\n",
    "for c in split:\n",
    "    top100revcopy[c]=top100revcopy[c].apply(lambda x: x.split(\"|\"))"
   ]
  },
  {
   "cell_type": "code",
   "execution_count": 38,
   "metadata": {},
   "outputs": [
    {
     "data": {
      "text/plain": [
       "Ian McKellen        8\n",
       "Daniel Radcliffe    8\n",
       "Emma Watson         8\n",
       "Rupert Grint        8\n",
       "Orlando Bloom       6\n",
       "                   ..\n",
       "Emma Thompson       1\n",
       "Mia Wasikowska      1\n",
       "Amy Poehler         1\n",
       "Tommy Lee Jones     1\n",
       "Mary McDonnell      1\n",
       "Name: cast, Length: 306, dtype: int64"
      ]
     },
     "execution_count": 38,
     "metadata": {},
     "output_type": "execute_result"
    }
   ],
   "source": [
    "top100rev2=top100revcopy.explode('cast',ignore_index=True)\n",
    "top100rev2.cast.value_counts()"
   ]
  },
  {
   "cell_type": "markdown",
   "metadata": {},
   "source": [
    "### (Genre) effect: "
   ]
  },
  {
   "cell_type": "code",
   "execution_count": 39,
   "metadata": {},
   "outputs": [],
   "source": [
    "split2=['genres']\n",
    "for b in split2:\n",
    "    top100revcopy[b]=top100revcopy[b].apply(lambda x: x.split(\"|\"))\n",
    " "
   ]
  },
  {
   "cell_type": "code",
   "execution_count": 40,
   "metadata": {},
   "outputs": [],
   "source": [
    "top100rev3=top100revcopy.explode('genres',ignore_index=True)"
   ]
  },
  {
   "cell_type": "code",
   "execution_count": 41,
   "metadata": {},
   "outputs": [
    {
     "data": {
      "image/png": "[encoded data removed]",
      "text/plain": [
       "<Figure size 432x720 with 1 Axes>"
      ]
     },
     "metadata": {},
     "output_type": "display_data"
    }
   ],
   "source": [
    "top100rev3.genres.value_counts().plot(kind='pie',autopct='%1.0f%%', pctdistance=0.7,figsize=(6,10),ylabel=\"\")\n",
    "plt.title (\"Top Genres of 100 top movies\",fontsize=15)\n",
    "plt.show()"
   ]
  },
  {
   "cell_type": "markdown",
   "metadata": {},
   "source": [
    "### (combined genres) effect: "
   ]
  },
  {
   "cell_type": "code",
   "execution_count": 42,
   "metadata": {},
   "outputs": [
    {
     "data": {
      "image/png": "[encoded data removed]",
      "text/plain": [
       "<Figure size 360x720 with 1 Axes>"
      ]
     },
     "metadata": {},
     "output_type": "display_data"
    }
   ],
   "source": [
    "top100rev.genres.value_counts().head(10).plot(ylabel=\"\",kind='pie', autopct='%1.0f%%', pctdistance=0.7, labeldistance=1.2,figsize=(5,10))\n",
    "plt.title(\"Top Genres of Top 100 movies\",fontsize=15)\n",
    "plt.show()"
   ]
  },
  {
   "cell_type": "markdown",
   "metadata": {},
   "source": [
    "## Question 4: Correlations and explorations (for all the dataset collectively)"
   ]
  },
  {
   "cell_type": "code",
   "execution_count": 43,
   "metadata": {
    "scrolled": true
   },
   "outputs": [
    {
     "data": {
      "text/plain": [
       "Index(['id', 'imdb_id', 'popularity', 'budget', 'revenue', 'original_title',\n",
       "       'cast', 'director', 'overview', 'runtime', 'genres',\n",
       "       'production_companies', 'release_date', 'vote_count', 'vote_average',\n",
       "       'release_year', 'budget_adj', 'revenue_adj', 'month'],\n",
       "      dtype='object')"
      ]
     },
     "execution_count": 43,
     "metadata": {},
     "output_type": "execute_result"
    }
   ],
   "source": [
    "df.columns"
   ]
  },
  {
   "cell_type": "code",
   "execution_count": 44,
   "metadata": {},
   "outputs": [],
   "source": [
    "def correlationplot(column1,column2):\n",
    "    x=df[column1]\n",
    "    y=df[column2]\n",
    "    sc=plt.scatter(x, y)\n",
    "    re=plt.plot(np.unique(x),np.poly1d(np.polyfit(x, y, 1))(np.unique(x)), color='red')\n",
    "    tit=plt.title('relation between {} and {} '.format(column1,column2))\n",
    "    #xll=plt.xlabel('{}'.format(column1))\n",
    "    yll=plt.ylabel('{}'.format(column2)+\" (Billion Dollars)\")\n",
    "   \n",
    "    return sc,re,tit,yll"
   ]
  },
  {
   "cell_type": "code",
   "execution_count": 45,
   "metadata": {},
   "outputs": [
    {
     "data": {
      "image/png": "[encoded data removed]",
      "text/plain": [
       "<Figure size 432x288 with 1 Axes>"
      ]
     },
     "metadata": {
      "needs_background": "light"
     },
     "output_type": "display_data"
    }
   ],
   "source": [
    "correlationplot('runtime','revenue')\n",
    "plt.xlabel('Runtime \"Minutes\"')\n",
    "plt.show()"
   ]
  },
  {
   "cell_type": "code",
   "execution_count": 46,
   "metadata": {},
   "outputs": [
    {
     "data": {
      "image/png": "[encoded data removed]",
      "text/plain": [
       "<Figure size 432x288 with 1 Axes>"
      ]
     },
     "metadata": {
      "needs_background": "light"
     },
     "output_type": "display_data"
    }
   ],
   "source": [
    "correlationplot('budget','revenue')\n",
    "plt.xlabel('Budget \"Hundred Millions\"')\n",
    "plt.show()"
   ]
  },
  {
   "cell_type": "markdown",
   "metadata": {},
   "source": [
    "the more the budget ,the more the achieved revenue"
   ]
  },
  {
   "cell_type": "code",
   "execution_count": 47,
   "metadata": {
    "scrolled": true
   },
   "outputs": [
    {
     "data": {
      "image/png": "[encoded data removed]",
      "text/plain": [
       "<Figure size 432x288 with 1 Axes>"
      ]
     },
     "metadata": {
      "needs_background": "light"
     },
     "output_type": "display_data"
    }
   ],
   "source": [
    "correlationplot('vote_average','revenue')\n",
    "plt.xlabel('Vote Average')\n",
    "plt.show()"
   ]
  },
  {
   "cell_type": "markdown",
   "metadata": {},
   "source": [
    "By increasing the vote average of the movie ,the more the revenue"
   ]
  },
  {
   "cell_type": "code",
   "execution_count": 48,
   "metadata": {},
   "outputs": [
    {
     "data": {
      "image/png": "[encoded data removed]",
      "text/plain": [
       "<Figure size 432x288 with 1 Axes>"
      ]
     },
     "metadata": {
      "needs_background": "light"
     },
     "output_type": "display_data"
    }
   ],
   "source": [
    "correlationplot('popularity','revenue')\n",
    "plt.xlabel('popularity')\n",
    "plt.show()"
   ]
  },
  {
   "cell_type": "markdown",
   "metadata": {},
   "source": [
    "The more the movie is popular ,the more the revenue it achieves"
   ]
  },
  {
   "cell_type": "code",
   "execution_count": 49,
   "metadata": {},
   "outputs": [
    {
     "data": {
      "text/plain": [
       "Woody Allen                    44\n",
       "Clint Eastwood                 33\n",
       "Steven Spielberg               29\n",
       "Martin Scorsese                28\n",
       "Ron Howard                     22\n",
       "                               ..\n",
       "Kevin Hamedani                  1\n",
       "James Orr                       1\n",
       "Vicky Jenson|Andrew Adamson     1\n",
       "Rob Williams                    1\n",
       "Paddy Considine                 1\n",
       "Name: director, Length: 4929, dtype: int64"
      ]
     },
     "execution_count": 49,
     "metadata": {},
     "output_type": "execute_result"
    }
   ],
   "source": [
    "df.director.value_counts()"
   ]
  },
  {
   "cell_type": "code",
   "execution_count": 50,
   "metadata": {},
   "outputs": [
    {
     "data": {
      "text/plain": [
       "Samuel L. Jackson    71\n",
       "Robert De Niro       70\n",
       "Bruce Willis         62\n",
       "Nicolas Cage         61\n",
       "Robin Williams       51\n",
       "                     ..\n",
       "Baek Do-bin           1\n",
       "Paul Scheer           1\n",
       "Fulton Mackay         1\n",
       "Polly Adams           1\n",
       "Kobe Bryant           1\n",
       "Name: cast, Length: 18527, dtype: int64"
      ]
     },
     "execution_count": 50,
     "metadata": {},
     "output_type": "execute_result"
    }
   ],
   "source": [
    "df_cast_exp=df.copy()\n",
    "split3=['cast']\n",
    "for actor in split3:\n",
    "    df_cast_exp[actor]=df_cast_exp[actor].apply(lambda x: x.split(\"|\"))\n",
    "\n",
    "df_cast_exp=df_cast_exp.explode('cast',ignore_index=True)\n",
    "df_cast_exp.cast.value_counts() "
   ]
  },
  {
   "cell_type": "code",
   "execution_count": 51,
   "metadata": {},
   "outputs": [
    {
     "data": {
      "text/plain": [
       "Drama              4600\n",
       "Comedy             3702\n",
       "Thriller           2792\n",
       "Action             2299\n",
       "Romance            1653\n",
       "Horror             1549\n",
       "Adventure          1416\n",
       "Crime              1310\n",
       "Science Fiction    1175\n",
       "Family             1172\n",
       "Fantasy             872\n",
       "Mystery             762\n",
       "Animation           653\n",
       "Documentary         460\n",
       "Music               383\n",
       "History             322\n",
       "War                 262\n",
       "Foreign             179\n",
       "Western             162\n",
       "TV Movie            154\n",
       "Name: genres, dtype: int64"
      ]
     },
     "execution_count": 51,
     "metadata": {},
     "output_type": "execute_result"
    }
   ],
   "source": [
    "df_genres_exp=df.copy()\n",
    "split4=['genres']\n",
    "for genre in split4:\n",
    "    df_genres_exp[genre]=df_genres_exp[genre].apply(lambda x: x.split(\"|\"))\n",
    "\n",
    "df_genres_exp=df_genres_exp.explode('genres',ignore_index=True)\n",
    "df_genres_exp.genres.value_counts() "
   ]
  },
  {
   "cell_type": "code",
   "execution_count": 52,
   "metadata": {},
   "outputs": [
    {
     "data": {
      "text/plain": [
       "Index(['id', 'imdb_id', 'popularity', 'budget', 'revenue', 'original_title',\n",
       "       'cast', 'director', 'overview', 'runtime', 'genres',\n",
       "       'production_companies', 'release_date', 'vote_count', 'vote_average',\n",
       "       'release_year', 'budget_adj', 'revenue_adj', 'month'],\n",
       "      dtype='object')"
      ]
     },
     "execution_count": 52,
     "metadata": {},
     "output_type": "execute_result"
    }
   ],
   "source": [
    "df.columns"
   ]
  },
  {
   "cell_type": "code",
   "execution_count": 53,
   "metadata": {},
   "outputs": [
    {
     "data": {
      "text/plain": [
       "missing                                   930\n",
       "Universal Pictures                        510\n",
       "Warner Bros.                              497\n",
       "Paramount Pictures                        409\n",
       "Twentieth Century Fox Film Corporation    269\n",
       "                                         ... \n",
       "HW Two                                      1\n",
       "Pact Productions                            1\n",
       "Peach Trees                                 1\n",
       "Double Windsor Films                        1\n",
       "Lago Films                                  1\n",
       "Name: production_companies, Length: 7687, dtype: int64"
      ]
     },
     "execution_count": 53,
     "metadata": {},
     "output_type": "execute_result"
    }
   ],
   "source": [
    "df_comp_exp=df.copy()\n",
    "split5=['production_companies']\n",
    "for comp in split5:\n",
    "    df_comp_exp[comp]=df_comp_exp[comp].apply(lambda x: x.split(\"|\"))\n",
    "\n",
    "df_comp_exp=df_comp_exp.explode('production_companies',ignore_index=True)\n",
    "df_comp_exp.production_companies.value_counts() "
   ]
  },
  {
   "cell_type": "markdown",
   "metadata": {},
   "source": [
    "<a id='conclusions'></a>\n",
    "## Conclusions\n",
    "\n"
   ]
  },
  {
   "cell_type": "markdown",
   "metadata": {},
   "source": [
    "### Question 1: Which genres are most popular from year to year?\n",
    "\n",
    "From analysis we were able to know both combined and single Genres that were most popular each year from 1960 to 2015 as shown in the exploration section.\n",
    "\n",
    "A bar graph representing the popularity score changing over the years is also provided. \n"
   ]
  },
  {
   "cell_type": "markdown",
   "metadata": {},
   "source": [
    "### Question 2: Top 20 Longest and shortest movies? \n",
    "\n",
    "From analysis ,we represented the longest 20 movies topped by the movie which exceeded 800 minutes ,to the shortest movies that didn't exceed 3 minutes which may be considered short films. \n",
    "\n",
    "Movies names along with thier corressponding runtime are represented by graphs for both ,longest and shortest 20 movies.  "
   ]
  },
  {
   "cell_type": "markdown",
   "metadata": {},
   "source": [
    "### Question3: Top 100 movies of highest revenue and factors that are associated with it?\n",
    "\n",
    "In this question ,we could find the following observations:\n",
    "\n",
    "1. **(Release month)** seems to affect the revenue as most of the top 100 revenue movies were released in June. \n",
    "\n",
    "2. **(Release Year)** also has an impact ,as through the years ,the revenue is increasing.Accordingly we found that most of the high revenue movies were released in 2014.\n",
    "\n",
    "3. High revenue movies have an average **popularity** of 5.156102\n",
    "\n",
    "4. They have an average of 153 Million Dollars **budget**.\n",
    "\n",
    "5. **Runtime** avergae of 130 Minutes.\n",
    "\n",
    "6. **Vote average** of 6.8\n",
    "\n",
    "7. **Director** (Peter Jackson) participated in 29% of the top 100 highest revenue movies.\n",
    "\n",
    "8. **Cast** of (Jennifer Lawrence|Josh Hutcherson|Liam Hemsworth|Woody Harrelson|Elizabeth Banks) is the most participating cast in the top 100 highest revenue movies.\n",
    "\n",
    "9. **Rupert Grint**,Emma Watson ,Ian McKellen,Daniel Radcliffe,Orlando Bloom are the **actors** who have the most frequent presence in the top 100 highest revenue movies.\n",
    "\n",
    "10. **(Adventure)** is the top genre among the genres of Top 100 highest revenue movies."
   ]
  },
  {
   "cell_type": "markdown",
   "metadata": {},
   "source": [
    "### Question 4: Correlations and explorations (for all the dataset collectively)\n",
    "\n",
    "\n",
    "1. Positive correlation between **runtime** and **revenue** of the movies .The more the runtime ,the more the revenue.\n",
    "\n",
    "2. Positive Correlation between **budget** and **revenue**,The more the buget set to the movie ,The more revenue expected to be achieved.\n",
    "\n",
    "3. **Average vote** and **popularity** of the movie are playing role in the revenue (Positive correlation).\n",
    "\n",
    "4. **(Woody Allen)** is the most participating director in the whole movies ,Followed by **(Clint Eastwood)**.\n",
    "\n",
    "5. **Samuel L. Jackson**,Robert De Niro ,Bruce Willis,Nicolas Cage,Robin Williams are the top partcipating **actors** in the whole movies.\n",
    "\n",
    "6. **Drama** is the top frequent **genre** in the whole movies.\n",
    "\n",
    "7. **Universal Pictures**,Warner Bros,Paramount Pictures are the top **production companies** in the industry."
   ]
  },
  {
   "cell_type": "markdown",
   "metadata": {},
   "source": [
    "### Limitations\n",
    "\n",
    "1. One important limitation in the exploration is that a lot of data regarding (Production Companies) are missing.This could have added another insight if it was complete."
   ]
  }
 ],
 "metadata": {
  "kernelspec": {
   "display_name": "Python 3",
   "language": "python",
   "name": "python3"
  },
  "language_info": {
   "codemirror_mode": {
    "name": "ipython",
    "version": 3
   },
   "file_extension": ".py",
   "mimetype": "text/x-python",
   "name": "python",
   "nbconvert_exporter": "python",
   "pygments_lexer": "ipython3",
   "version": "3.8.8"
  }
 },
 "nbformat": 4,
 "nbformat_minor": 2
}
